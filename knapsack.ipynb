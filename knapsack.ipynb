{
 "cells": [
  {
   "cell_type": "markdown",
   "id": "2b35b085",
   "metadata": {},
   "source": [
    "# <u>Knapsack Problem</u> "
   ]
  },
  {
   "cell_type": "markdown",
   "id": "9f4fcc90",
   "metadata": {},
   "source": [
    "# MAIN"
   ]
  },
  {
   "cell_type": "code",
   "execution_count": 286,
   "id": "8a04daf8",
   "metadata": {},
   "outputs": [],
   "source": [
    "import random\n",
    "import time\n",
    "from operator import itemgetter\n",
    "from scipy.stats import beta\n",
    "import numpy as np\n",
    "from decimal import *\n",
    "\n",
    "BRUTE_FORCE = \"BRUTE FORCE\"\n",
    "DYNAMIC_PROGRAMMING = \"DYNAMIC PROGRAMMING\"\n",
    "\n",
    "GREEDY_FRACTIONAL = \"GREEDY FRACTIONAL\"\n",
    "GREEDY_WEIGHT = \"GREEDY WEIGHT\"\n",
    "GREEDY_VALUE = \"GREEDY VALUE\"\n",
    "GREEDY_RATIO = \"GREEDY RATIO\"\n",
    "\n",
    "\n",
    "problem_solutions = []\n",
    "choosed_items = []\n"
   ]
  },
  {
   "cell_type": "markdown",
   "id": "789fdc32",
   "metadata": {},
   "source": [
    "## <span> 1. CLASS </span>"
   ]
  },
  {
   "cell_type": "markdown",
   "id": "99b49ee9",
   "metadata": {},
   "source": [
    "### <span style=\"color: yellow\"> 1. Item </span>"
   ]
  },
  {
   "cell_type": "code",
   "execution_count": 287,
   "id": "e76a7717",
   "metadata": {},
   "outputs": [],
   "source": [
    "class Item:\n",
    "  def __init__(self, value, weight):\n",
    "    self.value = value\n",
    "    self.weight = weight\n",
    "  \n",
    "  def print(item):\n",
    "    print(\"value = \" + str(item.value) + \" - weight = \" + str(item.weight), end=' ')\n",
    "\n",
    "  def print_items(items):\n",
    "    for i in range(0, len(items)):\n",
    "      print()\n",
    "      Item.print(items[i])"
   ]
  },
  {
   "cell_type": "markdown",
   "id": "3c89a225",
   "metadata": {},
   "source": [
    "#### <span style=\"color: GREEN\"> 1. Total Weight</span>"
   ]
  },
  {
   "cell_type": "code",
   "execution_count": 288,
   "id": "2f8a6388",
   "metadata": {},
   "outputs": [],
   "source": [
    "def compute_total_weight(item):\n",
    "    total_weight = 0\n",
    "    \n",
    "    for i in range(0, len(item)):\n",
    "        total_weight += item[i].weight\n",
    "\n",
    "    return total_weight"
   ]
  },
  {
   "cell_type": "markdown",
   "id": "3b85a185",
   "metadata": {},
   "source": [
    "#### <span style=\"color: GREEN\"> 2. Total Value</span>"
   ]
  },
  {
   "cell_type": "code",
   "execution_count": 289,
   "id": "aa4952f5",
   "metadata": {},
   "outputs": [],
   "source": [
    "def compute_total_value(item):\n",
    "    total_value = 0\n",
    "    \n",
    "    for i in range(0, len(item)):\n",
    "        total_value += item[i].value\n",
    "\n",
    "    return total_value"
   ]
  },
  {
   "cell_type": "markdown",
   "id": "ab2b0514",
   "metadata": {},
   "source": [
    "### <span style=\"color: yellow\"> 2. Solution </span>"
   ]
  },
  {
   "cell_type": "code",
   "execution_count": 290,
   "id": "e9671872",
   "metadata": {},
   "outputs": [],
   "source": [
    "class Solution:\n",
    "  def __init__(self, time, name, solution):\n",
    "    self.name = name\n",
    "    self.time = time\n",
    "    self.solution = solution\n",
    "  \n",
    "  def print(solution):\n",
    "    print(solution.name + \"\\t\\t - time = \" + str(solution.time) + \"\\t - solution = \" + str(solution.solution), end=' ')\n",
    "\n",
    "  def print_solutions(solutions):\n",
    "    for i in range(0, len(solutions)):\n",
    "      Solution.print(solutions[i])\n",
    "      print()"
   ]
  },
  {
   "cell_type": "markdown",
   "id": "87a7b268",
   "metadata": {},
   "source": [
    "## <span> 2. SOURCE DATA </span>"
   ]
  },
  {
   "cell_type": "markdown",
   "id": "ecc5b3c9",
   "metadata": {},
   "source": [
    "### <span style=\"color: purple\"> 1. input </span>"
   ]
  },
  {
   "cell_type": "code",
   "execution_count": 337,
   "id": "d8bdb5d1",
   "metadata": {},
   "outputs": [],
   "source": [
    "# Get the number of item from terminal\n",
    "nb_item = int(input(\"Enter number of item  - max :\"))\n",
    "\n",
    "# Get the capacity of the knapsack from terminal\n",
    "capacity = int(input('Enter the capacity of the sac : '))\n",
    "\n",
    "# clear the choosed items\n",
    "choosed_items = []"
   ]
  },
  {
   "cell_type": "markdown",
   "id": "4bb2b602",
   "metadata": {},
   "source": [
    "### <span style=\"color: purple\"> 2. Dataset </span>"
   ]
  },
  {
   "cell_type": "code",
   "execution_count": 292,
   "id": "0ae09244",
   "metadata": {},
   "outputs": [],
   "source": [
    "# clear the choosed items\n",
    "choosed_items = []\n",
    "\n",
    "# Using readlines()\n",
    "file1 = open('./dataset/large_scale/knapPI_2_100_1000_1', 'r')\n",
    "Lines = file1.readlines()\n",
    "\n",
    "count = 0\n",
    "\n",
    "# Strips the newline character\n",
    "for line in Lines:\n",
    "    count += 1\n",
    "    data = line.split()\n",
    "\n",
    "    if(count == 1):\n",
    "        # Get the number of item from terminal\n",
    "        nb_item = int(data[0])\n",
    "\n",
    "        # Get the capacity of aliment from terminal\n",
    "        capacity = int(data[1])\n",
    "        continue\n",
    "\n",
    "    value = int(data[0])\n",
    "    weight = int(data[1])\n",
    "\n",
    "    # fill the list with the object\n",
    "    choosed_items.append(Item(value, weight))"
   ]
  },
  {
   "cell_type": "markdown",
   "metadata": {},
   "source": [
    "## <span> 2. GENERATOR </span>"
   ]
  },
  {
   "cell_type": "markdown",
   "id": "c3cacdbe",
   "metadata": {},
   "source": [
    "##### <span style=\"color: blue\"> 1. Random generator</span>"
   ]
  },
  {
   "cell_type": "code",
   "execution_count": 293,
   "id": "19dc8716",
   "metadata": {},
   "outputs": [],
   "source": [
    "def random_generator():\n",
    "\n",
    "    # generate the aliments randomly\n",
    "    for i in range (0, nb_item):\n",
    "\n",
    "      weight = random.randint(1, capacity)\n",
    "      value = random.randint(1, capacity)\n",
    "      choosed_items.append(Item(value, weight))"
   ]
  },
  {
   "cell_type": "markdown",
   "id": "c3cacdbe",
   "metadata": {},
   "source": [
    "##### <span style=\"color: blue\"> 2. Exponential generator</span>"
   ]
  },
  {
   "cell_type": "code",
   "execution_count": 336,
   "id": "20da54c2",
   "metadata": {},
   "outputs": [],
   "source": [
    "import math\n",
    "\n",
    "def exponential_generator():\n",
    "\n",
    "    # generate the aliments randomly\n",
    "    for i in range(0, nb_item):\n",
    "\n",
    "      weight = int(math.exp(i))\n",
    "      value = random.randint(1, capacity)\n",
    "      choosed_items.append(Item(value, weight))\n"
   ]
  },
  {
   "cell_type": "markdown",
   "id": "47f53c7b",
   "metadata": {},
   "source": [
    "## <span> 3. ALGORITHM </span>"
   ]
  },
  {
   "cell_type": "markdown",
   "id": "1a522087",
   "metadata": {},
   "source": [
    "##### <span style=\"color: red\"> 1. Brute Force</span>"
   ]
  },
  {
   "cell_type": "code",
   "execution_count": 294,
   "id": "bb475ea3",
   "metadata": {},
   "outputs": [],
   "source": [
    "import itertools\n",
    "\n",
    "# calculate the total weight of the combination \n",
    "def compute_weight(combination_items):\n",
    "  value, weight = 0, 0\n",
    "  \n",
    "  for item in combination_items:\n",
    "    weight += item.weight\n",
    "    value += item.value\n",
    "\n",
    "  return value, weight \n",
    "\n",
    "# Brute force algorithm\n",
    "def brute_force_solution():\n",
    "  max_value = 0\n",
    "  solution = ()\n",
    "\n",
    "  for i in range(len(choosed_items) + 1):\n",
    "\n",
    "    # create all possible solutions\n",
    "    for combination_items in itertools.combinations(choosed_items, i):\n",
    "      value, weight = compute_weight(combination_items) \n",
    "\n",
    "      # check the total weight of the combination \n",
    "      if value > max_value and weight <= capacity:\n",
    "        solution = combination_items\n",
    "        max_value = value\n",
    "\n",
    "  return solution"
   ]
  },
  {
   "cell_type": "markdown",
   "id": "b4e868e1",
   "metadata": {},
   "source": [
    "##### <span style=\"color: red\"> 2. Dynamic Programming </span>"
   ]
  },
  {
   "cell_type": "code",
   "execution_count": 295,
   "id": "6089841a",
   "metadata": {},
   "outputs": [],
   "source": [
    "def dynamic_programming_solution():\n",
    "    table = [[0 for x in range(capacity + 1)] for x in range(nb_item + 1)] \n",
    "    for i in range(nb_item + 1): \n",
    "            for j in range(capacity + 1): \n",
    "                if i == 0 or j == 0: \n",
    "                    table[i][j] = 0\n",
    "                elif choosed_items[i-1].weight <= j: \n",
    "                    table[i][j] = max(choosed_items[i - 1].value  + table[i - 1][j - choosed_items[i - 1].weight],  table[i - 1][j]) \n",
    "                else: \n",
    "                    table[i][j] = table[i-1][j] \n",
    "    return table[nb_item][capacity] "
   ]
  },
  {
   "cell_type": "markdown",
   "id": "db79e52f",
   "metadata": {},
   "source": [
    "##### <span style=\"color: red\"> 3. Greedy approach </span>"
   ]
  },
  {
   "cell_type": "markdown",
   "id": "545837f1",
   "metadata": {},
   "source": [
    "###### <span> 1. Greedy ratio </span>"
   ]
  },
  {
   "cell_type": "code",
   "execution_count": 296,
   "id": "928a9b0b",
   "metadata": {},
   "outputs": [],
   "source": [
    "def greedy_ratio_solution():\n",
    "\n",
    "    sorted_items = choosed_items\n",
    "    sorted_items.sort(key=lambda x: (x.value/x.weight), reverse=True)\n",
    "    \n",
    "    initial_capacity = capacity\n",
    "    finalvalue = 0.0\n",
    "\n",
    "    # Looping through all Items\n",
    "    for item in choosed_items:\n",
    "\n",
    "        if item.weight <= initial_capacity:\n",
    "            initial_capacity -= item.weight\n",
    "            finalvalue += item.value\n",
    "\n",
    "    # Returning final value\n",
    "    return finalvalue"
   ]
  },
  {
   "cell_type": "markdown",
   "id": "00bad425",
   "metadata": {},
   "source": [
    "###### <span> 2. Greedy weight </span>"
   ]
  },
  {
   "cell_type": "code",
   "execution_count": 297,
   "id": "99b59e50",
   "metadata": {},
   "outputs": [],
   "source": [
    "def greedy_weight_solution():\n",
    "\n",
    "    sorted_items = choosed_items\n",
    "    sorted_items.sort(key=lambda x: x.weight, reverse=True)\n",
    "    \n",
    "    initial_capacity = capacity\n",
    "    final_value = 0.0\n",
    "\n",
    "    # Looping through all Items\n",
    "    for item in choosed_items:\n",
    "\n",
    "        if item.weight <= initial_capacity:\n",
    "            initial_capacity -= item.weight\n",
    "            final_value += item.value\n",
    "\n",
    "    return final_value"
   ]
  },
  {
   "cell_type": "markdown",
   "id": "3e995e1d",
   "metadata": {},
   "source": [
    "###### <span> 3. Greedy value </span>"
   ]
  },
  {
   "cell_type": "code",
   "execution_count": 298,
   "id": "5bd4e6d2",
   "metadata": {},
   "outputs": [],
   "source": [
    "def greedy_value_solution():\n",
    "\n",
    "    sorted_items = choosed_items\n",
    "    sorted_items.sort(key=lambda x: x.value, reverse=True)\n",
    "    \n",
    "    initial_capacity = capacity\n",
    "    final_value = 0.0\n",
    "\n",
    "    # Looping through all Items\n",
    "    for item in sorted_items:\n",
    "\n",
    "        if item.weight <= initial_capacity:\n",
    "            initial_capacity -= item.weight\n",
    "            final_value += item.value\n",
    "\n",
    "    return final_value"
   ]
  },
  {
   "cell_type": "markdown",
   "id": "78dec134",
   "metadata": {},
   "source": [
    "###### <span> 4. Greedy value </span>"
   ]
  },
  {
   "cell_type": "code",
   "execution_count": 299,
   "id": "17d77aff",
   "metadata": {},
   "outputs": [],
   "source": [
    "def greedy_fractional_solution():\n",
    "\n",
    "    sorted_items = choosed_items\n",
    "    sorted_items.sort(key=lambda x: (x.value/x.weight), reverse=True)\n",
    "    \n",
    "    initial_capacity = capacity\n",
    "    final_value = 0.0\n",
    "    \n",
    "    # Looping through all Items\n",
    "    for item in choosed_items:\n",
    "\n",
    "        if item.weight <= initial_capacity:\n",
    "            initial_capacity -= item.weight\n",
    "            final_value += item.value\n",
    "\n",
    "        else:\n",
    "            final_value += item.value * capacity / item.weight\n",
    "            break\n",
    "\n",
    "    return final_value"
   ]
  },
  {
   "cell_type": "markdown",
   "id": "c3dadf4b",
   "metadata": {},
   "source": [
    "## <span> 4. TEST  </span>"
   ]
  },
  {
   "cell_type": "markdown",
   "id": "55b492dd",
   "metadata": {},
   "source": [
    "### <span style=\"color: grey\"> 1. Generator </span>"
   ]
  },
  {
   "cell_type": "markdown",
   "id": "55b492dd",
   "metadata": {},
   "source": [
    "#### <span style=\"color: #DDDD\"> 1. Random </span>"
   ]
  },
  {
   "cell_type": "code",
   "execution_count": 323,
   "id": "7a8e23b3",
   "metadata": {},
   "outputs": [],
   "source": [
    "random_generator()"
   ]
  },
  {
   "cell_type": "markdown",
   "id": "55b492dd",
   "metadata": {},
   "source": [
    "#### <span style=\"color: #DDDD\"> 2. Exponential </span>"
   ]
  },
  {
   "cell_type": "code",
   "execution_count": 338,
   "id": "18542fe1",
   "metadata": {},
   "outputs": [],
   "source": [
    "exponential_generator()"
   ]
  },
  {
   "cell_type": "markdown",
   "id": "f8acf1ed",
   "metadata": {},
   "source": [
    "### <span style=\"color: grey\"> 2. Test Information </span>"
   ]
  },
  {
   "cell_type": "code",
   "execution_count": 315,
   "id": "f8a08678",
   "metadata": {},
   "outputs": [
    {
     "name": "stdout",
     "output_type": "stream",
     "text": [
      "number item : 10\n",
      "capacity : 10\n",
      "---\n",
      "\n",
      "value = 9 - weight = 1 \n",
      "value = 6 - weight = 1.0 \n",
      "value = 10 - weight = 2.718281828459045 \n",
      "value = 3 - weight = 7.38905609893065 \n",
      "value = 5 - weight = 20.085536923187668 \n",
      "value = 1 - weight = 54.598150033144236 \n",
      "value = 8 - weight = 148.4131591025766 \n",
      "value = 4 - weight = 403.4287934927351 \n",
      "value = 5 - weight = 1096.6331584284585 \n",
      "value = 4 - weight = 2980.9579870417283 \n",
      "value = 6 - weight = 8103.083927575384 "
     ]
    }
   ],
   "source": [
    "print(\"number item : \" + str(nb_item))\n",
    "print(\"capacity : \" + str(capacity))\n",
    "print(\"---\")\n",
    "Item.print_items(choosed_items)"
   ]
  },
  {
   "cell_type": "code",
   "execution_count": 339,
   "metadata": {},
   "outputs": [
    {
     "data": {
      "image/png": "[encoded data removed]",
      "text/plain": [
       "<Figure size 640x480 with 1 Axes>"
      ]
     },
     "metadata": {},
     "output_type": "display_data"
    }
   ],
   "source": [
    "# importing the required module\n",
    "import matplotlib.pyplot as plt\n",
    "\n",
    "sorted_items = choosed_items\n",
    "sorted_items.sort(key=lambda x: x.weight)\n",
    "\n",
    "x, y = [], []\n",
    "for i in range (0, len(sorted_items)):\n",
    "    x.append(i)\n",
    "    y.append(sorted_items[i].weight)\n",
    "\n",
    "# plotting the points\n",
    "plt.plot(x, y)\n",
    "\n",
    "# naming the x axis\n",
    "plt.xlabel('x - items')\n",
    "# naming the y axis\n",
    "plt.ylabel('y - weight item')\n",
    "\n",
    "# giving a title to my graph\n",
    "plt.title('Dataset weight')\n",
    "\n",
    "# function to show the plot\n",
    "plt.show()"
   ]
  },
  {
   "cell_type": "markdown",
   "id": "f8acf1ed",
   "metadata": {},
   "source": [
    "### <span style=\"color: grey\"> 3. Brute force</span>"
   ]
  },
  {
   "cell_type": "code",
   "execution_count": 340,
   "id": "7a8e23b3",
   "metadata": {},
   "outputs": [
    {
     "name": "stdout",
     "output_type": "stream",
     "text": [
      "brute force = 0.0009975433349609375 secondes\n",
      "solution brute force = 16\n",
      "---\n"
     ]
    }
   ],
   "source": [
    "def brute_force_test():\n",
    "    \n",
    "    begin = time.time()\n",
    "    solution = brute_force_solution()\n",
    "    end = time.time()\n",
    "\n",
    "    problem_solutions.append(Solution((end - begin), BRUTE_FORCE, compute_total_value(solution)))\n",
    "\n",
    "    print(\"brute force = %s secondes\" % problem_solutions[len(problem_solutions) - 1].time)\n",
    "    print(\"solution brute force = \" + str(problem_solutions[len(problem_solutions) - 1].solution))\n",
    "    print(\"---\")\n",
    "\n",
    "brute_force_test()"
   ]
  },
  {
   "cell_type": "markdown",
   "id": "f8acf1ed",
   "metadata": {},
   "source": [
    "### <span style=\"color: grey\"> 4. Dynamic programming</span>"
   ]
  },
  {
   "cell_type": "code",
   "execution_count": 341,
   "id": "7a8e23b3",
   "metadata": {},
   "outputs": [
    {
     "name": "stdout",
     "output_type": "stream",
     "text": [
      "dynamic  prog = 0.0 secondes\n",
      "solution dynamic = 16\n",
      "---\n"
     ]
    }
   ],
   "source": [
    "def dynamic_programming_test():\n",
    "\n",
    "    begin = time.time()\n",
    "    solution = dynamic_programming_solution()\n",
    "    end = time.time()\n",
    "\n",
    "    duration = (end - begin)\n",
    "    problem_solutions.append(Solution(duration, DYNAMIC_PROGRAMMING, solution))\n",
    "\n",
    "    print(\"dynamic  prog = %s secondes\" % problem_solutions[len(problem_solutions) - 1].time)\n",
    "    print(\"solution dynamic = \" + str(problem_solutions[len(problem_solutions) - 1].solution))\n",
    "    print(\"---\")\n",
    "    \n",
    "dynamic_programming_test()"
   ]
  },
  {
   "cell_type": "markdown",
   "id": "f8acf1ed",
   "metadata": {},
   "source": [
    "### <span style=\"color: grey\"> 5. Greedy solution</span>"
   ]
  },
  {
   "cell_type": "markdown",
   "id": "633c26a7",
   "metadata": {},
   "source": [
    "#### <span style=\"color: #dddd\"> 1. value solution</span>"
   ]
  },
  {
   "cell_type": "code",
   "execution_count": 342,
   "id": "7a8e23b3",
   "metadata": {},
   "outputs": [
    {
     "name": "stdout",
     "output_type": "stream",
     "text": [
      "greedy value = 0.0 secondes\n",
      "solution dynamic = 16.0\n",
      "---\n"
     ]
    }
   ],
   "source": [
    "def greedy_value_test():\n",
    "    \n",
    "    begin = time.time()\n",
    "    solution = greedy_value_solution()\n",
    "    end = time.time()\n",
    "\n",
    "    duration = (end - begin)\n",
    "    problem_solutions.append(Solution(duration, GREEDY_VALUE, solution))\n",
    "\n",
    "    print(\"greedy value = %s secondes\" % problem_solutions[len(problem_solutions) - 1].time)\n",
    "    print(\"solution dynamic = \" + str(problem_solutions[len(problem_solutions) - 1].solution))\n",
    "    print(\"---\")\n",
    "\n",
    "greedy_value_test()"
   ]
  },
  {
   "cell_type": "markdown",
   "id": "83c2f093",
   "metadata": {},
   "source": [
    "#### <span style=\"color: #dddd\"> 2. weight solution</span>"
   ]
  },
  {
   "cell_type": "code",
   "execution_count": 343,
   "id": "a2cd126d",
   "metadata": {},
   "outputs": [
    {
     "name": "stdout",
     "output_type": "stream",
     "text": [
      "greedy weight = 0.0 secondes\n",
      "solution dynamic = 16.0\n",
      "---\n"
     ]
    }
   ],
   "source": [
    "def greedy_weight_test():\n",
    "    \n",
    "    begin = time.time()\n",
    "    solution = greedy_weight_solution()\n",
    "    end = time.time()\n",
    "\n",
    "    duration = (end - begin)\n",
    "    problem_solutions.append(Solution(duration, GREEDY_VALUE, solution))\n",
    "\n",
    "    print(\"greedy weight = %s secondes\" % problem_solutions[len(problem_solutions) - 1].time)\n",
    "    print(\"solution dynamic = \" + str(problem_solutions[len(problem_solutions) - 1].solution))\n",
    "    print(\"---\")\n",
    "\n",
    "greedy_weight_test()"
   ]
  },
  {
   "cell_type": "markdown",
   "id": "633c26a7",
   "metadata": {},
   "source": [
    "#### <span style=\"color: #dddd\"> 3. ratio solution</span>"
   ]
  },
  {
   "cell_type": "code",
   "execution_count": 344,
   "id": "f5b5a1bc",
   "metadata": {},
   "outputs": [
    {
     "name": "stdout",
     "output_type": "stream",
     "text": [
      "greedy ratio = 0.0 secondes\n",
      "solution ratio = 16.0\n",
      "---\n"
     ]
    }
   ],
   "source": [
    "# ! DIVISION BY ZERO DATASET\n",
    "def greedy_ratio_test():\n",
    "    begin = time.time()\n",
    "    solution = greedy_ratio_solution()\n",
    "    end = time.time()\n",
    "\n",
    "    duration = (end - begin)\n",
    "    problem_solutions.append(Solution(duration, GREEDY_RATIO, solution))\n",
    "\n",
    "    print(\"greedy ratio = %s secondes\" % problem_solutions[len(problem_solutions) - 1].time)\n",
    "    print(\"solution ratio = \" + str(problem_solutions[len(problem_solutions) - 1].solution))\n",
    "    print(\"---\")\n",
    "\n",
    "greedy_ratio_test()"
   ]
  },
  {
   "cell_type": "markdown",
   "id": "633c26a7",
   "metadata": {},
   "source": [
    "#### <span style=\"color: #dddd\"> 3. Fractional solution</span>"
   ]
  },
  {
   "cell_type": "code",
   "execution_count": 347,
   "id": "d7cabc9c",
   "metadata": {},
   "outputs": [
    {
     "name": "stdout",
     "output_type": "stream",
     "text": [
      "greedy fractional = 0.0 secondes\n",
      "solution ratio = 20.0\n",
      "---\n"
     ]
    }
   ],
   "source": [
    "# ! DIVISION BY ZERO DATASET\n",
    "def greedy_fractional_test():\n",
    "\n",
    "    begin = time.time()\n",
    "    solution = greedy_fractional_solution()\n",
    "    end = time.time()\n",
    "\n",
    "    duration = (end - begin)\n",
    "    problem_solutions.append(Solution(duration, GREEDY_FRACTIONAL, solution))\n",
    "\n",
    "    print(\"greedy fractional = %s secondes\" % problem_solutions[len(problem_solutions) - 1].time)\n",
    "    print(\"solution ratio = \" + str(problem_solutions[len(problem_solutions) - 1].solution))\n",
    "    print(\"---\")\n",
    "\n",
    "greedy_fractional_test()"
   ]
  },
  {
   "cell_type": "markdown",
   "id": "f8acf1ed",
   "metadata": {},
   "source": [
    "### <span style=\"color: grey\"> Display Solutions</span>"
   ]
  },
  {
   "cell_type": "code",
   "execution_count": 348,
   "id": "ca4b38dc",
   "metadata": {},
   "outputs": [
    {
     "name": "stdout",
     "output_type": "stream",
     "text": [
      "DYNAMIC PROGRAMMING\t\t - time = 0.05385589599609375\t - solution = 1514 \n",
      "GREEDY VALUE\t\t - time = 0.0\t - solution = 2015.0 \n",
      "GREEDY VALUE\t\t - time = 0.0\t - solution = 996.0 \n",
      "BRUTE FORCE\t\t - time = 0.0019936561584472656\t - solution = 25 \n",
      "BRUTE FORCE\t\t - time = 0.000985860824584961\t - solution = 13 \n",
      "BRUTE FORCE\t\t - time = 0.0009963512420654297\t - solution = 13 \n",
      "BRUTE FORCE\t\t - time = 0.0009975433349609375\t - solution = 16 \n",
      "DYNAMIC PROGRAMMING\t\t - time = 0.0\t - solution = 16 \n",
      "GREEDY VALUE\t\t - time = 0.0\t - solution = 16.0 \n",
      "GREEDY VALUE\t\t - time = 0.0\t - solution = 16.0 \n",
      "GREEDY RATIO\t\t - time = 0.0\t - solution = 16.0 \n",
      "GREEDY FRACTIONAL\t\t - time = 0.0\t - solution = 20.0 \n",
      "GREEDY FRACTIONAL\t\t - time = 0.0\t - solution = 20.0 \n"
     ]
    }
   ],
   "source": [
    "Solution.print_solutions(problem_solutions)"
   ]
  }
 ],
 "metadata": {
  "kernelspec": {
   "display_name": "Python 3.10.8 64-bit (microsoft store)",
   "language": "python",
   "name": "python3"
  },
  "language_info": {
   "codemirror_mode": {
    "name": "ipython",
    "version": 3
   },
   "file_extension": ".py",
   "mimetype": "text/x-python",
   "name": "python",
   "nbconvert_exporter": "python",
   "pygments_lexer": "ipython3",
   "version": "3.10.8"
  },
  "vscode": {
   "interpreter": {
    "hash": "e743294b9eb9579c1dbfa440bf1529440bbf17bdd5f490c626f9a31cee6b9bc4"
   }
  }
 },
 "nbformat": 4,
 "nbformat_minor": 5
}
