{
 "cells": [
  {
   "cell_type": "markdown",
   "id": "2b35b085",
   "metadata": {},
   "source": [
    "# <u>Knapsack Problem</u> "
   ]
  },
  {
   "cell_type": "markdown",
   "id": "9f4fcc90",
   "metadata": {},
   "source": [
    "# MAIN"
   ]
  },
  {
   "cell_type": "code",
   "execution_count": 165,
   "id": "8a04daf8",
   "metadata": {},
   "outputs": [],
   "source": [
    "import random\n",
    "import time\n",
    "from operator import itemgetter\n",
    "from scipy.stats import beta\n",
    "import numpy as np\n",
    "from decimal import *\n",
    "\n",
    "BRUTE_FORCE = \"BRUTE FORCE\"\n",
    "DYNAMIC_PROGRAMMING = \"DYNAMIC PROGRAMMING\"\n",
    "\n",
    "problem_solutions = []\n",
    "choosed_items = []\n"
   ]
  },
  {
   "cell_type": "markdown",
   "id": "789fdc32",
   "metadata": {},
   "source": [
    "## <span> 1. CLASS </span>"
   ]
  },
  {
   "cell_type": "markdown",
   "id": "99b49ee9",
   "metadata": {},
   "source": [
    "### <span style=\"color: yellow\"> 1. Item </span>"
   ]
  },
  {
   "cell_type": "code",
   "execution_count": 166,
   "id": "e76a7717",
   "metadata": {},
   "outputs": [],
   "source": [
    "class Item:\n",
    "  def __init__(self, value, weight):\n",
    "    self.value = value\n",
    "    self.weight = weight\n",
    "  \n",
    "  def print(item):\n",
    "    print(\"value = \" + str(item.value) + \" - weight = \" + str(item.weight), end=' ')\n",
    "\n",
    "  def print_items(items):\n",
    "    for i in range(0, len(items)):\n",
    "      print()\n",
    "      Item.print(items[i])"
   ]
  },
  {
   "cell_type": "markdown",
   "id": "3c89a225",
   "metadata": {},
   "source": [
    "#### <span style=\"color: GREEN\"> 1. Total Weight</span>"
   ]
  },
  {
   "cell_type": "code",
   "execution_count": 167,
   "id": "2f8a6388",
   "metadata": {},
   "outputs": [],
   "source": [
    "def compute_total_weight(item):\n",
    "    total_weight = 0\n",
    "    \n",
    "    for i in range(0, len(item)):\n",
    "        total_weight += item[i].weight\n",
    "\n",
    "    return total_weight"
   ]
  },
  {
   "cell_type": "markdown",
   "id": "3b85a185",
   "metadata": {},
   "source": [
    "#### <span style=\"color: GREEN\"> 2. Total Value</span>"
   ]
  },
  {
   "cell_type": "code",
   "execution_count": 168,
   "id": "aa4952f5",
   "metadata": {},
   "outputs": [],
   "source": [
    "def compute_total_value(item):\n",
    "    total_value = 0\n",
    "    \n",
    "    for i in range(0, len(item)):\n",
    "        total_value += item[i].value\n",
    "\n",
    "    return total_value"
   ]
  },
  {
   "cell_type": "markdown",
   "id": "ab2b0514",
   "metadata": {},
   "source": [
    "### <span style=\"color: yellow\"> 2. Solution </span>"
   ]
  },
  {
   "cell_type": "code",
   "execution_count": 169,
   "id": "e9671872",
   "metadata": {},
   "outputs": [],
   "source": [
    "class Solution:\n",
    "  def __init__(self, time, name, solution):\n",
    "    self.name = name\n",
    "    self.time = time\n",
    "    self.solution = solution\n",
    "  \n",
    "  def print(solution):\n",
    "    print(\"name = \" + solution.name + \" - time = \" + str(solution.time), end=' ')\n",
    "\n",
    "  def print_solutions(solutions):\n",
    "    for i in range(0, len(solutions)):\n",
    "      Solution.print(solutions[i])\n",
    "      print()"
   ]
  },
  {
   "cell_type": "markdown",
   "id": "87a7b268",
   "metadata": {},
   "source": [
    "## <span> 2. SOURCE DATA </span>"
   ]
  },
  {
   "cell_type": "markdown",
   "id": "ecc5b3c9",
   "metadata": {},
   "source": [
    "### <span style=\"color: purple\"> 1. input </span>"
   ]
  },
  {
   "cell_type": "code",
   "execution_count": 170,
   "id": "d8bdb5d1",
   "metadata": {},
   "outputs": [],
   "source": [
    "# Get the number of item from terminal\n",
    "nb_item = int(input(\"Enter number of item  - max :\"))\n",
    "\n",
    "# Get the capacity of aliment from terminal\n",
    "capacity = int(input('Enter the capacity of the sac : '))"
   ]
  },
  {
   "cell_type": "markdown",
   "id": "4bb2b602",
   "metadata": {},
   "source": [
    "### <span style=\"color: purple\"> 2. Dataset </span>"
   ]
  },
  {
   "cell_type": "code",
   "execution_count": null,
   "id": "0ae09244",
   "metadata": {},
   "outputs": [],
   "source": [
    "# Using readlines()\n",
    "file1 = open('./dataset/large_scale/knapPI_2_100_1000_1', 'r')\n",
    "Lines = file1.readlines()\n",
    "\n",
    "count = 0\n",
    "\n",
    "# Strips the newline character\n",
    "for line in Lines:\n",
    "    count += 1\n",
    "    data = line.split()\n",
    "\n",
    "    if(count == 1):\n",
    "        # Get the number of item from terminal\n",
    "        nb_item = int(data[0])\n",
    "\n",
    "        # Get the capacity of aliment from terminal\n",
    "        capacity = int(data[1])\n",
    "        continue\n",
    "\n",
    "    value = int(data[0])\n",
    "    weight = int(data[1])\n",
    "\n",
    "    # fill the list with the object\n",
    "    choosed_items.append(Item(value, weight))"
   ]
  },
  {
   "cell_type": "markdown",
   "metadata": {},
   "source": [
    "## <span> 2. GENERATOR </span>"
   ]
  },
  {
   "cell_type": "markdown",
   "id": "c3cacdbe",
   "metadata": {},
   "source": [
    "##### <span style=\"color: blue\"> 1. Random generator</span>"
   ]
  },
  {
   "cell_type": "code",
   "execution_count": 171,
   "id": "19dc8716",
   "metadata": {},
   "outputs": [],
   "source": [
    "def random_generator():\n",
    "\n",
    "    # generate the aliments randomly\n",
    "    for i in range (0, nb_item):\n",
    "\n",
    "      weight = random.randint(1, capacity)\n",
    "      value = random.randint(1, capacity)\n",
    "      choosed_items.append(Item(value, weight))"
   ]
  },
  {
   "cell_type": "markdown",
   "id": "47f53c7b",
   "metadata": {},
   "source": [
    "## <span> 3. ALGORITHM </span>"
   ]
  },
  {
   "cell_type": "markdown",
   "id": "1a522087",
   "metadata": {},
   "source": [
    "##### <span style=\"color: red\"> 1. Brute Force</span>"
   ]
  },
  {
   "cell_type": "code",
   "execution_count": 172,
   "id": "bb475ea3",
   "metadata": {},
   "outputs": [],
   "source": [
    "import itertools\n",
    "\n",
    "# calculate the total weight of the combination \n",
    "def compute_weight(combination_items):\n",
    "  value, weight = 0, 0\n",
    "  \n",
    "  for item in combination_items:\n",
    "    weight += item.weight\n",
    "    value += item.value\n",
    "\n",
    "  return value, weight \n",
    "\n",
    "# Brute force algorithm\n",
    "def brute_force_solution(choosed_items):\n",
    "  max_value = 0\n",
    "  solution = ()\n",
    "\n",
    "  for i in range(len(choosed_items) + 1):\n",
    "\n",
    "    # create all possible solutions\n",
    "    for combination_items in itertools.combinations(choosed_items, i):\n",
    "      value, weight = compute_weight(combination_items) \n",
    "\n",
    "      # check the total weight of the combination \n",
    "      if value > max_value and weight <= capacity:\n",
    "        solution = combination_items\n",
    "        max_value = value\n",
    "\n",
    "  return solution"
   ]
  },
  {
   "cell_type": "markdown",
   "id": "b4e868e1",
   "metadata": {},
   "source": [
    "##### <span style=\"color: red\"> 2. Dynamic Programming </span>"
   ]
  },
  {
   "cell_type": "code",
   "execution_count": 173,
   "id": "6089841a",
   "metadata": {},
   "outputs": [],
   "source": [
    "def dynamic_programming_solution(choosed_items):\n",
    "    table = [[0 for x in range(capacity + 1)] for x in range(nb_item + 1)] \n",
    "    for i in range(nb_item + 1): \n",
    "            for j in range(capacity + 1): \n",
    "                if i == 0 or j == 0: \n",
    "                    table[i][j] = 0\n",
    "                elif choosed_items[i-1].weight <= j: \n",
    "                    table[i][j] = max(choosed_items[i-1].value  + table[i-1][j-choosed_items[i-1].weight],  table[i-1][j]) \n",
    "                else: \n",
    "                    table[i][j] = table[i-1][j] \n",
    "    return table[nb_item][capacity] "
   ]
  },
  {
   "cell_type": "markdown",
   "id": "c3dadf4b",
   "metadata": {},
   "source": [
    "## <span> 4. TEST  </span>"
   ]
  },
  {
   "cell_type": "markdown",
   "id": "55b492dd",
   "metadata": {},
   "source": [
    "### <span style=\"color: grey\"> 1. Generator </span>"
   ]
  },
  {
   "cell_type": "markdown",
   "id": "55b492dd",
   "metadata": {},
   "source": [
    "#### <span style=\"color: #DDDD\"> 1. Random </span>"
   ]
  },
  {
   "cell_type": "code",
   "execution_count": 175,
   "id": "7a8e23b3",
   "metadata": {},
   "outputs": [],
   "source": [
    "random_generator()"
   ]
  },
  {
   "cell_type": "markdown",
   "id": "f8acf1ed",
   "metadata": {},
   "source": [
    "### <span style=\"color: grey\"> 2. Test Information </span>"
   ]
  },
  {
   "cell_type": "code",
   "execution_count": 176,
   "id": "f8a08678",
   "metadata": {},
   "outputs": [
    {
     "name": "stdout",
     "output_type": "stream",
     "text": [
      "number item : 15\n",
      "capacity : 20\n",
      "---\n",
      "\n",
      "value = 4 - weight = 17 \n",
      "value = 4 - weight = 8 \n",
      "value = 15 - weight = 12 \n",
      "value = 18 - weight = 3 \n",
      "value = 15 - weight = 8 \n",
      "value = 7 - weight = 4 \n",
      "value = 11 - weight = 3 \n",
      "value = 9 - weight = 13 \n",
      "value = 12 - weight = 4 \n",
      "value = 11 - weight = 16 \n",
      "value = 17 - weight = 4 \n",
      "value = 5 - weight = 3 \n",
      "value = 9 - weight = 14 \n",
      "value = 17 - weight = 17 \n",
      "value = 2 - weight = 18 "
     ]
    }
   ],
   "source": [
    "print(\"number item : \" + str(nb_item))\n",
    "print(\"capacity : \" + str(capacity))\n",
    "print(\"---\")\n",
    "Item.print_items(choosed_items)"
   ]
  },
  {
   "cell_type": "markdown",
   "id": "f8acf1ed",
   "metadata": {},
   "source": [
    "### <span style=\"color: grey\"> 3. Brute force</span>"
   ]
  },
  {
   "cell_type": "code",
   "execution_count": 177,
   "id": "7a8e23b3",
   "metadata": {},
   "outputs": [
    {
     "name": "stdout",
     "output_type": "stream",
     "text": [
      "brute force = 0.03592514991760254 secondes\n",
      "solution brute force = 65\n",
      "---\n"
     ]
    }
   ],
   "source": [
    "begin = time.time()\n",
    "solution_brute_force = brute_force_solution(choosed_items)\n",
    "end = time.time()\n",
    "\n",
    "problem_solutions.append(Solution((end - begin), BRUTE_FORCE, compute_total_value(solution_brute_force)))\n",
    "\n",
    "print(\"brute force = %s secondes\" % problem_solutions[len(problem_solutions) - 1].time)\n",
    "print(\"solution brute force = \" + str(problem_solutions[len(problem_solutions) - 1].solution))\n",
    "print(\"---\")\n"
   ]
  },
  {
   "cell_type": "markdown",
   "id": "f8acf1ed",
   "metadata": {},
   "source": [
    "### <span style=\"color: grey\"> 4. Dynamic programming</span>"
   ]
  },
  {
   "cell_type": "code",
   "execution_count": 178,
   "id": "7a8e23b3",
   "metadata": {},
   "outputs": [
    {
     "name": "stdout",
     "output_type": "stream",
     "text": [
      "dynamic  prog = 0.0009984970092773438 secondes\n",
      "solution dynamic = 65\n",
      "---\n"
     ]
    }
   ],
   "source": [
    "begin = time.time()\n",
    "solution_dynamic = dynamic_programming_solution(choosed_items)\n",
    "end = time.time()\n",
    "\n",
    "duration = (end - begin)\n",
    "\n",
    "problem_solutions.append(Solution(duration, DYNAMIC_PROGRAMMING, solution_dynamic))\n",
    "\n",
    "print(\"dynamic  prog = %s secondes\" % problem_solutions[len(problem_solutions) - 1].time)\n",
    "print(\"solution dynamic = \" + str(problem_solutions[len(problem_solutions) - 1].solution))\n",
    "print(\"---\")"
   ]
  },
  {
   "cell_type": "markdown",
   "id": "f8acf1ed",
   "metadata": {},
   "source": [
    "### <span style=\"color: grey\"> Display Solutions</span>"
   ]
  },
  {
   "cell_type": "code",
   "execution_count": 179,
   "id": "ca4b38dc",
   "metadata": {},
   "outputs": [
    {
     "name": "stdout",
     "output_type": "stream",
     "text": [
      "name = BRUTE FORCE - time = 0.03592514991760254 \n",
      "name = DYNAMIC PROGRAMMING - time = 0.0009984970092773438 \n"
     ]
    }
   ],
   "source": [
    "Solution.print_solutions(problem_solutions)"
   ]
  }
 ],
 "metadata": {
  "kernelspec": {
   "display_name": "Python 3.10.8 64-bit (microsoft store)",
   "language": "python",
   "name": "python3"
  },
  "language_info": {
   "codemirror_mode": {
    "name": "ipython",
    "version": 3
   },
   "file_extension": ".py",
   "mimetype": "text/x-python",
   "name": "python",
   "nbconvert_exporter": "python",
   "pygments_lexer": "ipython3",
   "version": "3.10.8"
  },
  "vscode": {
   "interpreter": {
    "hash": "e743294b9eb9579c1dbfa440bf1529440bbf17bdd5f490c626f9a31cee6b9bc4"
   }
  }
 },
 "nbformat": 4,
 "nbformat_minor": 5
}
