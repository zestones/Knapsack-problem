{
 "cells": [
  {
   "cell_type": "markdown",
   "id": "2b35b085",
   "metadata": {},
   "source": [
    "# <u>Knapsack Problem</u> "
   ]
  },
  {
   "cell_type": "markdown",
   "id": "9f4fcc90",
   "metadata": {},
   "source": [
    "# MAIN"
   ]
  },
  {
   "cell_type": "code",
   "execution_count": 286,
   "id": "8a04daf8",
   "metadata": {},
   "outputs": [],
   "source": [
    "import random\n",
    "import time\n",
    "from operator import itemgetter\n",
    "from scipy.stats import beta\n",
    "import numpy as np\n",
    "from decimal import *\n",
    "\n",
    "BRUTE_FORCE = \"BRUTE FORCE\"\n",
    "DYNAMIC_PROGRAMMING = \"DYNAMIC PROGRAMMING\"\n",
    "\n",
    "GREEDY_FRACTIONAL = \"GREEDY FRACTIONAL\"\n",
    "GREEDY_WEIGHT = \"GREEDY WEIGHT\"\n",
    "GREEDY_VALUE = \"GREEDY VALUE\"\n",
    "GREEDY_RATIO = \"GREEDY RATIO\"\n",
    "\n",
    "\n",
    "problem_solutions = []\n",
    "choosed_items = []\n"
   ]
  },
  {
   "cell_type": "markdown",
   "id": "789fdc32",
   "metadata": {},
   "source": [
    "## <span> 1. CLASS </span>"
   ]
  },
  {
   "cell_type": "markdown",
   "id": "99b49ee9",
   "metadata": {},
   "source": [
    "### <span style=\"color: yellow\"> 1. Item </span>"
   ]
  },
  {
   "cell_type": "code",
   "execution_count": 287,
   "id": "e76a7717",
   "metadata": {},
   "outputs": [],
   "source": [
    "class Item:\n",
    "  def __init__(self, value, weight):\n",
    "    self.value = value\n",
    "    self.weight = weight\n",
    "  \n",
    "  def print(item):\n",
    "    print(\"value = \" + str(item.value) + \" - weight = \" + str(item.weight), end=' ')\n",
    "\n",
    "  def print_items(items):\n",
    "    for i in range(0, len(items)):\n",
    "      print()\n",
    "      Item.print(items[i])"
   ]
  },
  {
   "cell_type": "markdown",
   "id": "3c89a225",
   "metadata": {},
   "source": [
    "#### <span style=\"color: GREEN\"> 1. Total Weight</span>"
   ]
  },
  {
   "cell_type": "code",
   "execution_count": 288,
   "id": "2f8a6388",
   "metadata": {},
   "outputs": [],
   "source": [
    "def compute_total_weight(item):\n",
    "    total_weight = 0\n",
    "    \n",
    "    for i in range(0, len(item)):\n",
    "        total_weight += item[i].weight\n",
    "\n",
    "    return total_weight"
   ]
  },
  {
   "cell_type": "markdown",
   "id": "3b85a185",
   "metadata": {},
   "source": [
    "#### <span style=\"color: GREEN\"> 2. Total Value</span>"
   ]
  },
  {
   "cell_type": "code",
   "execution_count": 289,
   "id": "aa4952f5",
   "metadata": {},
   "outputs": [],
   "source": [
    "def compute_total_value(item):\n",
    "    total_value = 0\n",
    "    \n",
    "    for i in range(0, len(item)):\n",
    "        total_value += item[i].value\n",
    "\n",
    "    return total_value"
   ]
  },
  {
   "cell_type": "markdown",
   "id": "ab2b0514",
   "metadata": {},
   "source": [
    "### <span style=\"color: yellow\"> 2. Solution </span>"
   ]
  },
  {
   "cell_type": "code",
   "execution_count": 290,
   "id": "e9671872",
   "metadata": {},
   "outputs": [],
   "source": [
    "class Solution:\n",
    "  def __init__(self, time, name, solution):\n",
    "    self.name = name\n",
    "    self.time = time\n",
    "    self.solution = solution\n",
    "  \n",
    "  def print(solution):\n",
    "    print(solution.name + \"\\t\\t - time = \" + str(solution.time) + \"\\t - solution = \" + str(solution.solution), end=' ')\n",
    "\n",
    "  def print_solutions(solutions):\n",
    "    for i in range(0, len(solutions)):\n",
    "      Solution.print(solutions[i])\n",
    "      print()"
   ]
  },
  {
   "cell_type": "markdown",
   "id": "87a7b268",
   "metadata": {},
   "source": [
    "## <span> 2. SOURCE DATA </span>"
   ]
  },
  {
   "cell_type": "markdown",
   "id": "ecc5b3c9",
   "metadata": {},
   "source": [
    "### <span style=\"color: purple\"> 1. input </span>"
   ]
  },
  {
   "cell_type": "code",
   "execution_count": 291,
   "id": "d8bdb5d1",
   "metadata": {},
   "outputs": [],
   "source": [
    "# Get the number of item from terminal\n",
    "nb_item = int(input(\"Enter number of item  - max :\"))\n",
    "\n",
    "# Get the capacity of aliment from terminal\n",
    "capacity = int(input('Enter the capacity of the sac : '))\n",
    "\n",
    "# clear the choosed items\n",
    "choosed_items = []"
   ]
  },
  {
   "cell_type": "markdown",
   "id": "4bb2b602",
   "metadata": {},
   "source": [
    "### <span style=\"color: purple\"> 2. Dataset </span>"
   ]
  },
  {
   "cell_type": "code",
   "execution_count": 292,
   "id": "0ae09244",
   "metadata": {},
   "outputs": [],
   "source": [
    "# clear the choosed items\n",
    "choosed_items = []\n",
    "\n",
    "# Using readlines()\n",
    "file1 = open('./dataset/large_scale/knapPI_2_100_1000_1', 'r')\n",
    "Lines = file1.readlines()\n",
    "\n",
    "count = 0\n",
    "\n",
    "# Strips the newline character\n",
    "for line in Lines:\n",
    "    count += 1\n",
    "    data = line.split()\n",
    "\n",
    "    if(count == 1):\n",
    "        # Get the number of item from terminal\n",
    "        nb_item = int(data[0])\n",
    "\n",
    "        # Get the capacity of aliment from terminal\n",
    "        capacity = int(data[1])\n",
    "        continue\n",
    "\n",
    "    value = int(data[0])\n",
    "    weight = int(data[1])\n",
    "\n",
    "    # fill the list with the object\n",
    "    choosed_items.append(Item(value, weight))"
   ]
  },
  {
   "cell_type": "markdown",
   "metadata": {},
   "source": [
    "## <span> 2. GENERATOR </span>"
   ]
  },
  {
   "cell_type": "markdown",
   "id": "c3cacdbe",
   "metadata": {},
   "source": [
    "##### <span style=\"color: blue\"> 1. Random generator</span>"
   ]
  },
  {
   "cell_type": "code",
   "execution_count": 293,
   "id": "19dc8716",
   "metadata": {},
   "outputs": [],
   "source": [
    "def random_generator():\n",
    "\n",
    "    # generate the aliments randomly\n",
    "    for i in range (0, nb_item):\n",
    "\n",
    "      weight = random.randint(1, capacity)\n",
    "      value = random.randint(1, capacity)\n",
    "      choosed_items.append(Item(value, weight))"
   ]
  },
  {
   "cell_type": "markdown",
   "id": "c3cacdbe",
   "metadata": {},
   "source": [
    "##### <span style=\"color: blue\"> 2. Exponential generator</span>"
   ]
  },
  {
   "cell_type": "markdown",
   "id": "47f53c7b",
   "metadata": {},
   "source": [
    "## <span> 3. ALGORITHM </span>"
   ]
  },
  {
   "cell_type": "markdown",
   "id": "1a522087",
   "metadata": {},
   "source": [
    "##### <span style=\"color: red\"> 1. Brute Force</span>"
   ]
  },
  {
   "cell_type": "code",
   "execution_count": 294,
   "id": "bb475ea3",
   "metadata": {},
   "outputs": [],
   "source": [
    "import itertools\n",
    "\n",
    "# calculate the total weight of the combination \n",
    "def compute_weight(combination_items):\n",
    "  value, weight = 0, 0\n",
    "  \n",
    "  for item in combination_items:\n",
    "    weight += item.weight\n",
    "    value += item.value\n",
    "\n",
    "  return value, weight \n",
    "\n",
    "# Brute force algorithm\n",
    "def brute_force_solution():\n",
    "  max_value = 0\n",
    "  solution = ()\n",
    "\n",
    "  for i in range(len(choosed_items) + 1):\n",
    "\n",
    "    # create all possible solutions\n",
    "    for combination_items in itertools.combinations(choosed_items, i):\n",
    "      value, weight = compute_weight(combination_items) \n",
    "\n",
    "      # check the total weight of the combination \n",
    "      if value > max_value and weight <= capacity:\n",
    "        solution = combination_items\n",
    "        max_value = value\n",
    "\n",
    "  return solution"
   ]
  },
  {
   "cell_type": "markdown",
   "id": "b4e868e1",
   "metadata": {},
   "source": [
    "##### <span style=\"color: red\"> 2. Dynamic Programming </span>"
   ]
  },
  {
   "cell_type": "code",
   "execution_count": 295,
   "id": "6089841a",
   "metadata": {},
   "outputs": [],
   "source": [
    "def dynamic_programming_solution():\n",
    "    table = [[0 for x in range(capacity + 1)] for x in range(nb_item + 1)] \n",
    "    for i in range(nb_item + 1): \n",
    "            for j in range(capacity + 1): \n",
    "                if i == 0 or j == 0: \n",
    "                    table[i][j] = 0\n",
    "                elif choosed_items[i-1].weight <= j: \n",
    "                    table[i][j] = max(choosed_items[i - 1].value  + table[i - 1][j - choosed_items[i - 1].weight],  table[i - 1][j]) \n",
    "                else: \n",
    "                    table[i][j] = table[i-1][j] \n",
    "    return table[nb_item][capacity] "
   ]
  },
  {
   "cell_type": "markdown",
   "id": "db79e52f",
   "metadata": {},
   "source": [
    "##### <span style=\"color: red\"> 3. Greedy approach </span>"
   ]
  },
  {
   "cell_type": "markdown",
   "id": "545837f1",
   "metadata": {},
   "source": [
    "###### <span> 1. Greedy ratio </span>"
   ]
  },
  {
   "cell_type": "code",
   "execution_count": 296,
   "id": "928a9b0b",
   "metadata": {},
   "outputs": [],
   "source": [
    "def greedy_ratio_solution():\n",
    "\n",
    "    sorted_items = choosed_items\n",
    "    sorted_items.sort(key=lambda x: (x.value/x.weight), reverse=True)\n",
    "    \n",
    "    initial_capacity = capacity\n",
    "    finalvalue = 0.0\n",
    "\n",
    "    # Looping through all Items\n",
    "    for item in choosed_items:\n",
    "\n",
    "        if item.weight <= initial_capacity:\n",
    "            initial_capacity -= item.weight\n",
    "            finalvalue += item.value\n",
    "\n",
    "    # Returning final value\n",
    "    return finalvalue"
   ]
  },
  {
   "cell_type": "markdown",
   "id": "00bad425",
   "metadata": {},
   "source": [
    "###### <span> 2. Greedy weight </span>"
   ]
  },
  {
   "cell_type": "code",
   "execution_count": 297,
   "id": "99b59e50",
   "metadata": {},
   "outputs": [],
   "source": [
    "def greedy_weight_solution():\n",
    "\n",
    "    sorted_items = choosed_items\n",
    "    sorted_items.sort(key=lambda x: x.weight, reverse=True)\n",
    "    \n",
    "    initial_capacity = capacity\n",
    "    final_value = 0.0\n",
    "\n",
    "    # Looping through all Items\n",
    "    for item in choosed_items:\n",
    "\n",
    "        if item.weight <= initial_capacity:\n",
    "            initial_capacity -= item.weight\n",
    "            final_value += item.value\n",
    "\n",
    "    return final_value"
   ]
  },
  {
   "cell_type": "markdown",
   "id": "3e995e1d",
   "metadata": {},
   "source": [
    "###### <span> 3. Greedy value </span>"
   ]
  },
  {
   "cell_type": "code",
   "execution_count": 298,
   "id": "5bd4e6d2",
   "metadata": {},
   "outputs": [],
   "source": [
    "def greedy_value_solution():\n",
    "\n",
    "    sorted_items = choosed_items\n",
    "    sorted_items.sort(key=lambda x: x.value, reverse=True)\n",
    "    \n",
    "    initial_capacity = capacity\n",
    "    final_value = 0.0\n",
    "\n",
    "    # Looping through all Items\n",
    "    for item in sorted_items:\n",
    "\n",
    "        if item.weight <= initial_capacity:\n",
    "            initial_capacity -= item.weight\n",
    "            final_value += item.value\n",
    "\n",
    "    return final_value"
   ]
  },
  {
   "cell_type": "markdown",
   "id": "78dec134",
   "metadata": {},
   "source": [
    "###### <span> 4. Greedy value </span>"
   ]
  },
  {
   "cell_type": "code",
   "execution_count": 299,
   "id": "17d77aff",
   "metadata": {},
   "outputs": [],
   "source": [
    "def greedy_fractional_solution():\n",
    "\n",
    "    sorted_items = choosed_items\n",
    "    sorted_items.sort(key=lambda x: (x.value/x.weight), reverse=True)\n",
    "    \n",
    "    initial_capacity = capacity\n",
    "    final_value = 0.0\n",
    "    \n",
    "    # Looping through all Items\n",
    "    for item in choosed_items:\n",
    "\n",
    "        if item.weight <= initial_capacity:\n",
    "            initial_capacity -= item.weight\n",
    "            final_value += item.value\n",
    "\n",
    "        else:\n",
    "            final_value += item.value * capacity / item.weight\n",
    "            break\n",
    "\n",
    "    return final_value"
   ]
  },
  {
   "cell_type": "markdown",
   "id": "c3dadf4b",
   "metadata": {},
   "source": [
    "## <span> 4. TEST  </span>"
   ]
  },
  {
   "cell_type": "markdown",
   "id": "55b492dd",
   "metadata": {},
   "source": [
    "### <span style=\"color: grey\"> 1. Generator </span>"
   ]
  },
  {
   "cell_type": "markdown",
   "id": "55b492dd",
   "metadata": {},
   "source": [
    "#### <span style=\"color: #DDDD\"> 1. Random </span>"
   ]
  },
  {
   "cell_type": "code",
   "execution_count": 300,
   "id": "7a8e23b3",
   "metadata": {},
   "outputs": [],
   "source": [
    "random_generator()"
   ]
  },
  {
   "cell_type": "markdown",
   "id": "f8acf1ed",
   "metadata": {},
   "source": [
    "### <span style=\"color: grey\"> 2. Test Information </span>"
   ]
  },
  {
   "cell_type": "code",
   "execution_count": 301,
   "id": "f8a08678",
   "metadata": {},
   "outputs": [
    {
     "name": "stdout",
     "output_type": "stream",
     "text": [
      "number item : 100\n",
      "capacity : 995\n",
      "---\n",
      "\n",
      "value = 482 - weight = 485 \n",
      "value = 257 - weight = 326 \n",
      "value = 286 - weight = 248 \n",
      "value = 517 - weight = 421 \n",
      "value = 404 - weight = 322 \n",
      "value = 713 - weight = 795 \n",
      "value = 45 - weight = 43 \n",
      "value = 924 - weight = 845 \n",
      "value = 873 - weight = 955 \n",
      "value = 160 - weight = 252 \n",
      "value = 1 - weight = 9 \n",
      "value = 838 - weight = 901 \n",
      "value = 40 - weight = 122 \n",
      "value = 58 - weight = 94 \n",
      "value = 676 - weight = 738 \n",
      "value = 627 - weight = 574 \n",
      "value = 766 - weight = 715 \n",
      "value = 862 - weight = 882 \n",
      "value = 405 - weight = 367 \n",
      "value = 923 - weight = 984 \n",
      "value = 379 - weight = 299 \n",
      "value = 461 - weight = 433 \n",
      "value = 612 - weight = 682 \n",
      "value = 133 - weight = 72 \n",
      "value = 813 - weight = 874 \n",
      "value = 97 - weight = 138 \n",
      "value = 908 - weight = 856 \n",
      "value = 165 - weight = 145 \n",
      "value = 996 - weight = 995 \n",
      "value = 623 - weight = 529 \n",
      "value = 220 - weight = 199 \n",
      "value = 298 - weight = 277 \n",
      "value = 157 - weight = 97 \n",
      "value = 723 - weight = 719 \n",
      "value = 144 - weight = 242 \n",
      "value = 48 - weight = 107 \n",
      "value = 129 - weight = 122 \n",
      "value = 148 - weight = 70 \n",
      "value = 35 - weight = 98 \n",
      "value = 644 - weight = 600 \n",
      "value = 632 - weight = 645 \n",
      "value = 272 - weight = 267 \n",
      "value = 1040 - weight = 972 \n",
      "value = 977 - weight = 895 \n",
      "value = 312 - weight = 213 \n",
      "value = 778 - weight = 748 \n",
      "value = 567 - weight = 487 \n",
      "value = 965 - weight = 923 \n",
      "value = 1 - weight = 29 \n",
      "value = 616 - weight = 674 \n",
      "value = 569 - weight = 540 \n",
      "value = 628 - weight = 554 \n",
      "value = 493 - weight = 467 \n",
      "value = 76 - weight = 46 \n",
      "value = 733 - weight = 710 \n",
      "value = 575 - weight = 553 \n",
      "value = 288 - weight = 191 \n",
      "value = 775 - weight = 724 \n",
      "value = 723 - weight = 730 \n",
      "value = 912 - weight = 988 \n",
      "value = 64 - weight = 90 \n",
      "value = 354 - weight = 340 \n",
      "value = 565 - weight = 549 \n",
      "value = 210 - weight = 196 \n",
      "value = 922 - weight = 865 \n",
      "value = 775 - weight = 678 \n",
      "value = 566 - weight = 570 \n",
      "value = 934 - weight = 936 \n",
      "value = 626 - weight = 722 \n",
      "value = 742 - weight = 651 \n",
      "value = 194 - weight = 123 \n",
      "value = 485 - weight = 431 \n",
      "value = 483 - weight = 508 \n",
      "value = 617 - weight = 585 \n",
      "value = 876 - weight = 853 \n",
      "value = 653 - weight = 642 \n",
      "value = 896 - weight = 992 \n",
      "value = 652 - weight = 725 \n",
      "value = 220 - weight = 286 \n",
      "value = 727 - weight = 812 \n",
      "value = 900 - weight = 859 \n",
      "value = 563 - weight = 663 \n",
      "value = 56 - weight = 88 \n",
      "value = 157 - weight = 179 \n",
      "value = 280 - weight = 187 \n",
      "value = 537 - weight = 619 \n",
      "value = 284 - weight = 261 \n",
      "value = 920 - weight = 846 \n",
      "value = 124 - weight = 192 \n",
      "value = 239 - weight = 261 \n",
      "value = 459 - weight = 514 \n",
      "value = 931 - weight = 886 \n",
      "value = 504 - weight = 530 \n",
      "value = 910 - weight = 849 \n",
      "value = 382 - weight = 294 \n",
      "value = 795 - weight = 799 \n",
      "value = 485 - weight = 391 \n",
      "value = 351 - weight = 330 \n",
      "value = 289 - weight = 298 \n",
      "value = 865 - weight = 790 \n",
      "value = 0 - weight = 0 \n",
      "value = 505 - weight = 216 \n",
      "value = 446 - weight = 689 \n",
      "value = 253 - weight = 765 \n",
      "value = 717 - weight = 824 \n",
      "value = 501 - weight = 928 \n",
      "value = 827 - weight = 376 \n",
      "value = 449 - weight = 776 \n",
      "value = 130 - weight = 401 \n",
      "value = 90 - weight = 491 \n",
      "value = 647 - weight = 679 \n",
      "value = 841 - weight = 185 \n",
      "value = 71 - weight = 237 \n",
      "value = 530 - weight = 498 \n",
      "value = 736 - weight = 248 \n",
      "value = 34 - weight = 590 \n",
      "value = 977 - weight = 226 \n",
      "value = 415 - weight = 435 \n",
      "value = 454 - weight = 571 \n",
      "value = 461 - weight = 836 \n",
      "value = 615 - weight = 474 \n",
      "value = 871 - weight = 336 \n",
      "value = 565 - weight = 128 \n",
      "value = 906 - weight = 882 \n",
      "value = 319 - weight = 318 \n",
      "value = 835 - weight = 269 \n",
      "value = 560 - weight = 917 \n",
      "value = 230 - weight = 571 \n",
      "value = 942 - weight = 836 \n",
      "value = 394 - weight = 856 \n",
      "value = 941 - weight = 167 \n",
      "value = 672 - weight = 189 \n",
      "value = 900 - weight = 70 \n",
      "value = 952 - weight = 403 \n",
      "value = 813 - weight = 389 \n",
      "value = 904 - weight = 155 \n",
      "value = 62 - weight = 298 \n",
      "value = 117 - weight = 334 \n",
      "value = 124 - weight = 163 \n",
      "value = 66 - weight = 486 \n",
      "value = 128 - weight = 48 \n",
      "value = 886 - weight = 172 \n",
      "value = 651 - weight = 171 \n",
      "value = 632 - weight = 340 \n",
      "value = 913 - weight = 541 \n",
      "value = 285 - weight = 854 \n",
      "value = 782 - weight = 72 \n",
      "value = 279 - weight = 78 \n",
      "value = 112 - weight = 97 \n",
      "value = 73 - weight = 173 \n",
      "value = 465 - weight = 914 \n",
      "value = 274 - weight = 622 \n",
      "value = 13 - weight = 524 \n",
      "value = 344 - weight = 123 \n",
      "value = 7 - weight = 686 \n",
      "value = 205 - weight = 225 \n",
      "value = 318 - weight = 276 \n",
      "value = 355 - weight = 510 \n",
      "value = 565 - weight = 264 \n",
      "value = 972 - weight = 696 \n",
      "value = 37 - weight = 117 \n",
      "value = 113 - weight = 284 \n",
      "value = 757 - weight = 643 \n",
      "value = 500 - weight = 590 \n",
      "value = 512 - weight = 702 \n",
      "value = 604 - weight = 833 \n",
      "value = 14 - weight = 494 \n",
      "value = 328 - weight = 300 \n",
      "value = 217 - weight = 18 \n",
      "value = 795 - weight = 918 \n",
      "value = 961 - weight = 888 \n",
      "value = 275 - weight = 726 \n",
      "value = 301 - weight = 457 \n",
      "value = 453 - weight = 965 \n",
      "value = 110 - weight = 519 \n",
      "value = 952 - weight = 442 \n",
      "value = 503 - weight = 320 \n",
      "value = 852 - weight = 799 \n",
      "value = 549 - weight = 174 \n",
      "value = 568 - weight = 828 \n",
      "value = 344 - weight = 972 \n",
      "value = 286 - weight = 771 \n",
      "value = 506 - weight = 325 \n",
      "value = 425 - weight = 394 \n",
      "value = 323 - weight = 893 \n",
      "value = 424 - weight = 904 \n",
      "value = 712 - weight = 414 \n",
      "value = 544 - weight = 655 \n",
      "value = 758 - weight = 963 \n",
      "value = 598 - weight = 516 \n",
      "value = 643 - weight = 584 \n",
      "value = 177 - weight = 535 \n",
      "value = 599 - weight = 116 \n",
      "value = 501 - weight = 163 \n",
      "value = 974 - weight = 8 \n",
      "value = 226 - weight = 277 \n",
      "value = 303 - weight = 884 \n",
      "value = 502 - weight = 203 \n",
      "value = 544 - weight = 57 \n",
      "value = 430 - weight = 391 \n",
      "value = 809 - weight = 878 "
     ]
    }
   ],
   "source": [
    "print(\"number item : \" + str(nb_item))\n",
    "print(\"capacity : \" + str(capacity))\n",
    "print(\"---\")\n",
    "Item.print_items(choosed_items)"
   ]
  },
  {
   "cell_type": "markdown",
   "id": "f8acf1ed",
   "metadata": {},
   "source": [
    "### <span style=\"color: grey\"> 3. Brute force</span>"
   ]
  },
  {
   "cell_type": "code",
   "execution_count": 302,
   "id": "7a8e23b3",
   "metadata": {},
   "outputs": [
    {
     "ename": "KeyboardInterrupt",
     "evalue": "",
     "output_type": "error",
     "traceback": [
      "\u001b[1;31m---------------------------------------------------------------------------\u001b[0m",
      "\u001b[1;31mKeyboardInterrupt\u001b[0m                         Traceback (most recent call last)",
      "Cell \u001b[1;32mIn[302], line 13\u001b[0m\n\u001b[0;32m     10\u001b[0m     \u001b[38;5;28mprint\u001b[39m(\u001b[38;5;124m\"\u001b[39m\u001b[38;5;124msolution brute force = \u001b[39m\u001b[38;5;124m\"\u001b[39m \u001b[38;5;241m+\u001b[39m \u001b[38;5;28mstr\u001b[39m(problem_solutions[\u001b[38;5;28mlen\u001b[39m(problem_solutions) \u001b[38;5;241m-\u001b[39m \u001b[38;5;241m1\u001b[39m]\u001b[38;5;241m.\u001b[39msolution))\n\u001b[0;32m     11\u001b[0m     \u001b[38;5;28mprint\u001b[39m(\u001b[38;5;124m\"\u001b[39m\u001b[38;5;124m---\u001b[39m\u001b[38;5;124m\"\u001b[39m)\n\u001b[1;32m---> 13\u001b[0m \u001b[43mbrute_force_test\u001b[49m\u001b[43m(\u001b[49m\u001b[43m)\u001b[49m\n",
      "Cell \u001b[1;32mIn[302], line 4\u001b[0m, in \u001b[0;36mbrute_force_test\u001b[1;34m()\u001b[0m\n\u001b[0;32m      1\u001b[0m \u001b[38;5;28;01mdef\u001b[39;00m \u001b[38;5;21mbrute_force_test\u001b[39m():\n\u001b[0;32m      3\u001b[0m     begin \u001b[38;5;241m=\u001b[39m time\u001b[38;5;241m.\u001b[39mtime()\n\u001b[1;32m----> 4\u001b[0m     solution \u001b[38;5;241m=\u001b[39m \u001b[43mbrute_force_solution\u001b[49m\u001b[43m(\u001b[49m\u001b[43m)\u001b[49m\n\u001b[0;32m      5\u001b[0m     end \u001b[38;5;241m=\u001b[39m time\u001b[38;5;241m.\u001b[39mtime()\n\u001b[0;32m      7\u001b[0m     problem_solutions\u001b[38;5;241m.\u001b[39mappend(Solution((end \u001b[38;5;241m-\u001b[39m begin), BRUTE_FORCE, compute_total_value(solution)))\n",
      "Cell \u001b[1;32mIn[294], line 25\u001b[0m, in \u001b[0;36mbrute_force_solution\u001b[1;34m()\u001b[0m\n\u001b[0;32m     22\u001b[0m value, weight \u001b[38;5;241m=\u001b[39m compute_weight(combination_items) \n\u001b[0;32m     24\u001b[0m \u001b[38;5;66;03m# check the total weight of the combination \u001b[39;00m\n\u001b[1;32m---> 25\u001b[0m \u001b[38;5;28;01mif\u001b[39;00m \u001b[43mvalue\u001b[49m\u001b[43m \u001b[49m\u001b[38;5;241;43m>\u001b[39;49m\u001b[43m \u001b[49m\u001b[43mmax_value\u001b[49m \u001b[38;5;129;01mand\u001b[39;00m weight \u001b[38;5;241m<\u001b[39m\u001b[38;5;241m=\u001b[39m capacity:\n\u001b[0;32m     26\u001b[0m   solution \u001b[38;5;241m=\u001b[39m combination_items\n\u001b[0;32m     27\u001b[0m   max_value \u001b[38;5;241m=\u001b[39m value\n",
      "\u001b[1;31mKeyboardInterrupt\u001b[0m: "
     ]
    }
   ],
   "source": [
    "def brute_force_test():\n",
    "    \n",
    "    begin = time.time()\n",
    "    solution = brute_force_solution()\n",
    "    end = time.time()\n",
    "\n",
    "    problem_solutions.append(Solution((end - begin), BRUTE_FORCE, compute_total_value(solution)))\n",
    "\n",
    "    print(\"brute force = %s secondes\" % problem_solutions[len(problem_solutions) - 1].time)\n",
    "    print(\"solution brute force = \" + str(problem_solutions[len(problem_solutions) - 1].solution))\n",
    "    print(\"---\")\n",
    "\n",
    "brute_force_test()"
   ]
  },
  {
   "cell_type": "markdown",
   "id": "f8acf1ed",
   "metadata": {},
   "source": [
    "### <span style=\"color: grey\"> 4. Dynamic programming</span>"
   ]
  },
  {
   "cell_type": "code",
   "execution_count": 303,
   "id": "7a8e23b3",
   "metadata": {},
   "outputs": [
    {
     "name": "stdout",
     "output_type": "stream",
     "text": [
      "dynamic  prog = 0.05385589599609375 secondes\n",
      "solution dynamic = 1514\n",
      "---\n"
     ]
    }
   ],
   "source": [
    "def dynamic_programming_test():\n",
    "\n",
    "    begin = time.time()\n",
    "    solution = dynamic_programming_solution()\n",
    "    end = time.time()\n",
    "\n",
    "    duration = (end - begin)\n",
    "    problem_solutions.append(Solution(duration, DYNAMIC_PROGRAMMING, solution))\n",
    "\n",
    "    print(\"dynamic  prog = %s secondes\" % problem_solutions[len(problem_solutions) - 1].time)\n",
    "    print(\"solution dynamic = \" + str(problem_solutions[len(problem_solutions) - 1].solution))\n",
    "    print(\"---\")\n",
    "    \n",
    "dynamic_programming_test()"
   ]
  },
  {
   "cell_type": "markdown",
   "id": "f8acf1ed",
   "metadata": {},
   "source": [
    "### <span style=\"color: grey\"> 5. Greedy solution</span>"
   ]
  },
  {
   "cell_type": "markdown",
   "id": "633c26a7",
   "metadata": {},
   "source": [
    "#### <span style=\"color: #dddd\"> 1. value solution</span>"
   ]
  },
  {
   "cell_type": "code",
   "execution_count": 304,
   "id": "7a8e23b3",
   "metadata": {},
   "outputs": [
    {
     "name": "stdout",
     "output_type": "stream",
     "text": [
      "greedy value = 0.0 secondes\n",
      "solution dynamic = 2015.0\n",
      "---\n"
     ]
    }
   ],
   "source": [
    "def greedy_value_test():\n",
    "    \n",
    "    begin = time.time()\n",
    "    solution = greedy_value_solution()\n",
    "    end = time.time()\n",
    "\n",
    "    duration = (end - begin)\n",
    "    problem_solutions.append(Solution(duration, GREEDY_VALUE, solution))\n",
    "\n",
    "    print(\"greedy value = %s secondes\" % problem_solutions[len(problem_solutions) - 1].time)\n",
    "    print(\"solution dynamic = \" + str(problem_solutions[len(problem_solutions) - 1].solution))\n",
    "    print(\"---\")\n",
    "\n",
    "greedy_value_test()"
   ]
  },
  {
   "cell_type": "markdown",
   "id": "83c2f093",
   "metadata": {},
   "source": [
    "#### <span style=\"color: #dddd\"> 2. weight solution</span>"
   ]
  },
  {
   "cell_type": "code",
   "execution_count": 305,
   "id": "a2cd126d",
   "metadata": {},
   "outputs": [
    {
     "name": "stdout",
     "output_type": "stream",
     "text": [
      "greedy weight = 0.0 secondes\n",
      "solution dynamic = 996.0\n",
      "---\n"
     ]
    }
   ],
   "source": [
    "def greedy_weight_test():\n",
    "    \n",
    "    begin = time.time()\n",
    "    solution = greedy_weight_solution()\n",
    "    end = time.time()\n",
    "\n",
    "    duration = (end - begin)\n",
    "    problem_solutions.append(Solution(duration, GREEDY_VALUE, solution))\n",
    "\n",
    "    print(\"greedy weight = %s secondes\" % problem_solutions[len(problem_solutions) - 1].time)\n",
    "    print(\"solution dynamic = \" + str(problem_solutions[len(problem_solutions) - 1].solution))\n",
    "    print(\"---\")\n",
    "\n",
    "greedy_weight_test()"
   ]
  },
  {
   "cell_type": "markdown",
   "id": "633c26a7",
   "metadata": {},
   "source": [
    "#### <span style=\"color: #dddd\"> 3. ratio solution</span>"
   ]
  },
  {
   "cell_type": "code",
   "execution_count": 306,
   "id": "f5b5a1bc",
   "metadata": {},
   "outputs": [
    {
     "ename": "ZeroDivisionError",
     "evalue": "division by zero",
     "output_type": "error",
     "traceback": [
      "\u001b[1;31m---------------------------------------------------------------------------\u001b[0m",
      "\u001b[1;31mZeroDivisionError\u001b[0m                         Traceback (most recent call last)",
      "Cell \u001b[1;32mIn[306], line 14\u001b[0m\n\u001b[0;32m     11\u001b[0m     \u001b[38;5;28mprint\u001b[39m(\u001b[38;5;124m\"\u001b[39m\u001b[38;5;124msolution ratio = \u001b[39m\u001b[38;5;124m\"\u001b[39m \u001b[38;5;241m+\u001b[39m \u001b[38;5;28mstr\u001b[39m(problem_solutions[\u001b[38;5;28mlen\u001b[39m(problem_solutions) \u001b[38;5;241m-\u001b[39m \u001b[38;5;241m1\u001b[39m]\u001b[38;5;241m.\u001b[39msolution))\n\u001b[0;32m     12\u001b[0m     \u001b[38;5;28mprint\u001b[39m(\u001b[38;5;124m\"\u001b[39m\u001b[38;5;124m---\u001b[39m\u001b[38;5;124m\"\u001b[39m)\n\u001b[1;32m---> 14\u001b[0m \u001b[43mgreedy_ratio_test\u001b[49m\u001b[43m(\u001b[49m\u001b[43m)\u001b[49m\n",
      "Cell \u001b[1;32mIn[306], line 4\u001b[0m, in \u001b[0;36mgreedy_ratio_test\u001b[1;34m()\u001b[0m\n\u001b[0;32m      2\u001b[0m \u001b[38;5;28;01mdef\u001b[39;00m \u001b[38;5;21mgreedy_ratio_test\u001b[39m():\n\u001b[0;32m      3\u001b[0m     begin \u001b[38;5;241m=\u001b[39m time\u001b[38;5;241m.\u001b[39mtime()\n\u001b[1;32m----> 4\u001b[0m     solution \u001b[38;5;241m=\u001b[39m \u001b[43mgreedy_ratio_solution\u001b[49m\u001b[43m(\u001b[49m\u001b[43m)\u001b[49m\n\u001b[0;32m      5\u001b[0m     end \u001b[38;5;241m=\u001b[39m time\u001b[38;5;241m.\u001b[39mtime()\n\u001b[0;32m      7\u001b[0m     duration \u001b[38;5;241m=\u001b[39m (end \u001b[38;5;241m-\u001b[39m begin)\n",
      "Cell \u001b[1;32mIn[296], line 4\u001b[0m, in \u001b[0;36mgreedy_ratio_solution\u001b[1;34m()\u001b[0m\n\u001b[0;32m      1\u001b[0m \u001b[38;5;28;01mdef\u001b[39;00m \u001b[38;5;21mgreedy_ratio_solution\u001b[39m():\n\u001b[0;32m      3\u001b[0m     sorted_items \u001b[38;5;241m=\u001b[39m choosed_items\n\u001b[1;32m----> 4\u001b[0m     \u001b[43msorted_items\u001b[49m\u001b[38;5;241;43m.\u001b[39;49m\u001b[43msort\u001b[49m\u001b[43m(\u001b[49m\u001b[43mkey\u001b[49m\u001b[38;5;241;43m=\u001b[39;49m\u001b[38;5;28;43;01mlambda\u001b[39;49;00m\u001b[43m \u001b[49m\u001b[43mx\u001b[49m\u001b[43m:\u001b[49m\u001b[43m \u001b[49m\u001b[43m(\u001b[49m\u001b[43mx\u001b[49m\u001b[38;5;241;43m.\u001b[39;49m\u001b[43mvalue\u001b[49m\u001b[38;5;241;43m/\u001b[39;49m\u001b[43mx\u001b[49m\u001b[38;5;241;43m.\u001b[39;49m\u001b[43mweight\u001b[49m\u001b[43m)\u001b[49m\u001b[43m,\u001b[49m\u001b[43m \u001b[49m\u001b[43mreverse\u001b[49m\u001b[38;5;241;43m=\u001b[39;49m\u001b[38;5;28;43;01mTrue\u001b[39;49;00m\u001b[43m)\u001b[49m\n\u001b[0;32m      6\u001b[0m     initial_capacity \u001b[38;5;241m=\u001b[39m capacity\n\u001b[0;32m      7\u001b[0m     finalvalue \u001b[38;5;241m=\u001b[39m \u001b[38;5;241m0.0\u001b[39m\n",
      "Cell \u001b[1;32mIn[296], line 4\u001b[0m, in \u001b[0;36mgreedy_ratio_solution.<locals>.<lambda>\u001b[1;34m(x)\u001b[0m\n\u001b[0;32m      1\u001b[0m \u001b[38;5;28;01mdef\u001b[39;00m \u001b[38;5;21mgreedy_ratio_solution\u001b[39m():\n\u001b[0;32m      3\u001b[0m     sorted_items \u001b[38;5;241m=\u001b[39m choosed_items\n\u001b[1;32m----> 4\u001b[0m     sorted_items\u001b[38;5;241m.\u001b[39msort(key\u001b[38;5;241m=\u001b[39m\u001b[38;5;28;01mlambda\u001b[39;00m x: (\u001b[43mx\u001b[49m\u001b[38;5;241;43m.\u001b[39;49m\u001b[43mvalue\u001b[49m\u001b[38;5;241;43m/\u001b[39;49m\u001b[43mx\u001b[49m\u001b[38;5;241;43m.\u001b[39;49m\u001b[43mweight\u001b[49m), reverse\u001b[38;5;241m=\u001b[39m\u001b[38;5;28;01mTrue\u001b[39;00m)\n\u001b[0;32m      6\u001b[0m     initial_capacity \u001b[38;5;241m=\u001b[39m capacity\n\u001b[0;32m      7\u001b[0m     finalvalue \u001b[38;5;241m=\u001b[39m \u001b[38;5;241m0.0\u001b[39m\n",
      "\u001b[1;31mZeroDivisionError\u001b[0m: division by zero"
     ]
    }
   ],
   "source": [
    "# ! DIVISION BY ZERO DATASET\n",
    "def greedy_ratio_test():\n",
    "    begin = time.time()\n",
    "    solution = greedy_ratio_solution()\n",
    "    end = time.time()\n",
    "\n",
    "    duration = (end - begin)\n",
    "    problem_solutions.append(Solution(duration, GREEDY_RATIO, solution))\n",
    "\n",
    "    print(\"greedy ratio = %s secondes\" % problem_solutions[len(problem_solutions) - 1].time)\n",
    "    print(\"solution ratio = \" + str(problem_solutions[len(problem_solutions) - 1].solution))\n",
    "    print(\"---\")\n",
    "\n",
    "greedy_ratio_test()"
   ]
  },
  {
   "cell_type": "markdown",
   "id": "633c26a7",
   "metadata": {},
   "source": [
    "#### <span style=\"color: #dddd\"> 3. Fractional solution</span>"
   ]
  },
  {
   "cell_type": "code",
   "execution_count": null,
   "id": "d7cabc9c",
   "metadata": {},
   "outputs": [],
   "source": [
    "# ! DIVISION BY ZERO DATASET\n",
    "def greedy_fractional_test():\n",
    "\n",
    "    begin = time.time()\n",
    "    solution = greedy_fractional_solution()\n",
    "    end = time.time()\n",
    "\n",
    "    duration = (end - begin)\n",
    "    problem_solutions.append(Solution(duration, GREEDY_FRACTIONAL, solution))\n",
    "\n",
    "    print(\"greedy fractional = %s secondes\" % problem_solutions[len(problem_solutions) - 1].time)\n",
    "    print(\"solution ratio = \" + str(problem_solutions[len(problem_solutions) - 1].solution))\n",
    "    print(\"---\")\n",
    "\n",
    "greedy_fractional_test()"
   ]
  },
  {
   "cell_type": "markdown",
   "id": "f8acf1ed",
   "metadata": {},
   "source": [
    "### <span style=\"color: grey\"> Display Solutions</span>"
   ]
  },
  {
   "cell_type": "code",
   "execution_count": 307,
   "id": "ca4b38dc",
   "metadata": {},
   "outputs": [
    {
     "name": "stdout",
     "output_type": "stream",
     "text": [
      "DYNAMIC PROGRAMMING\t\t - time = 0.05385589599609375\t - solution = 1514 \n",
      "GREEDY VALUE\t\t - time = 0.0\t - solution = 2015.0 \n",
      "GREEDY VALUE\t\t - time = 0.0\t - solution = 996.0 \n"
     ]
    }
   ],
   "source": [
    "Solution.print_solutions(problem_solutions)"
   ]
  }
 ],
 "metadata": {
  "kernelspec": {
   "display_name": "Python 3.10.8 64-bit (microsoft store)",
   "language": "python",
   "name": "python3"
  },
  "language_info": {
   "codemirror_mode": {
    "name": "ipython",
    "version": 3
   },
   "file_extension": ".py",
   "mimetype": "text/x-python",
   "name": "python",
   "nbconvert_exporter": "python",
   "pygments_lexer": "ipython3",
   "version": "3.10.8"
  },
  "vscode": {
   "interpreter": {
    "hash": "e743294b9eb9579c1dbfa440bf1529440bbf17bdd5f490c626f9a31cee6b9bc4"
   }
  }
 },
 "nbformat": 4,
 "nbformat_minor": 5
}
