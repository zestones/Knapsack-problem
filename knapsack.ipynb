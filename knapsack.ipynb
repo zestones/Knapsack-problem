{
 "cells": [
  {
   "cell_type": "markdown",
   "id": "2b35b085",
   "metadata": {},
   "source": [
    "# <u>Knapsack Problem</u> "
   ]
  },
  {
   "cell_type": "markdown",
   "id": "9f4fcc90",
   "metadata": {},
   "source": [
    "# MAIN"
   ]
  },
  {
   "cell_type": "code",
   "execution_count": 1,
   "id": "8a04daf8",
   "metadata": {},
   "outputs": [],
   "source": [
    "import sys\n",
    "import time\n",
    "import math\n",
    "import random\n",
    "import numpy as np\n",
    "from decimal import *\n",
    "from scipy.stats import beta\n",
    "from operator import itemgetter\n",
    "import matplotlib.pyplot as plt\n",
    "\n",
    "############## CONSTANT ##############\n",
    "        \n",
    "        ####### ALGO #######\n",
    "BRUTE_FORCE = \"BRUTE FORCE\"\n",
    "\n",
    "DYNAMIC_PROG = \"DYNAMIC PROG\"\n",
    "DYNAMIC_PROG_TOP_DOWN = \"DYNAMIC PROG TOP DOWN\"\n",
    "\n",
    "GREEDY_FRACTIONAL = \"GREEDY FRACTIONAL\"\n",
    "GREEDY_WEIGHT = \"GREEDY WEIGHT\"\n",
    "GREEDY_VALUE = \"GREEDY VALUE\"\n",
    "GREEDY_RATIO = \"GREEDY RATIO\"\n",
    "\n",
    "BRANCH_BOUND = \"BRANCH BOUND\"\n",
    "\n",
    "GENETIC = \"GENETIC\"\n",
    "\n",
    "FPTAS = \"FPTAS\"\n",
    "########################################\n",
    "\n",
    "## Global arrays\n",
    "problem_solutions = []\n",
    "choosed_items = []\n",
    "optimal = []\n",
    "\n",
    "# Fixing random state for reproducibility\n",
    "np.random.seed(19680801)\n",
    "\n",
    "# increase max recursion for long stack\n",
    "sys.setrecursionlimit(150000)\n"
   ]
  },
  {
   "cell_type": "markdown",
   "id": "789fdc32",
   "metadata": {},
   "source": [
    "## <span> 1. CLASS </span>"
   ]
  },
  {
   "cell_type": "markdown",
   "id": "99b49ee9",
   "metadata": {},
   "source": [
    "### <span style=\"color: yellow\"> 1. Item </span>"
   ]
  },
  {
   "cell_type": "code",
   "execution_count": 2,
   "id": "e76a7717",
   "metadata": {},
   "outputs": [],
   "source": [
    "class Item:\n",
    "  def __init__(self, value, weight):\n",
    "    self.value = value\n",
    "    self.weight = weight\n",
    "  \n",
    "  def print(item):\n",
    "    print(\"value = \" + str(item.value) + \" - weight = \" + str(item.weight), end=' ')\n",
    "\n",
    "  def print_items(items):\n",
    "    for i in range(0, len(items)):\n",
    "      print()\n",
    "      Item.print(items[i])"
   ]
  },
  {
   "cell_type": "markdown",
   "id": "3c89a225",
   "metadata": {},
   "source": [
    "#### <span style=\"color: GREEN\"> 1. Total Weight</span>"
   ]
  },
  {
   "cell_type": "code",
   "execution_count": 3,
   "id": "2f8a6388",
   "metadata": {},
   "outputs": [],
   "source": [
    "def compute_total_weight(item):\n",
    "    total_weight = 0\n",
    "    \n",
    "    for i in range(0, len(item)):\n",
    "        total_weight += item[i].weight\n",
    "\n",
    "    return total_weight"
   ]
  },
  {
   "cell_type": "markdown",
   "id": "3b85a185",
   "metadata": {},
   "source": [
    "#### <span style=\"color: GREEN\"> 2. Total Value</span>"
   ]
  },
  {
   "cell_type": "code",
   "execution_count": 4,
   "id": "aa4952f5",
   "metadata": {},
   "outputs": [],
   "source": [
    "def compute_total_value(item):\n",
    "    total_value = 0\n",
    "    \n",
    "    for i in range(0, len(item)):\n",
    "        total_value += item[i].value\n",
    "\n",
    "    return total_value"
   ]
  },
  {
   "cell_type": "markdown",
   "id": "ab2b0514",
   "metadata": {},
   "source": [
    "### <span style=\"color: yellow\"> 2. Solution </span>"
   ]
  },
  {
   "cell_type": "code",
   "execution_count": 5,
   "id": "e9671872",
   "metadata": {},
   "outputs": [],
   "source": [
    "class Solution:\n",
    "  def __init__(self, time, name, solution):\n",
    "    self.name = name\n",
    "    self.time = time\n",
    "    self.solution = solution\n",
    "  \n",
    "  def print(solution):\n",
    "    print(solution.name + \"\\t\\t - time = \" + str(solution.time) + \"\\t - solution = \" + str(solution.solution), end=' ')\n",
    "\n",
    "  def print_solutions(solutions):\n",
    "    for i in range(0, len(solutions)):\n",
    "      Solution.print(solutions[i])\n",
    "      print()"
   ]
  },
  {
   "cell_type": "markdown",
   "id": "87a7b268",
   "metadata": {},
   "source": [
    "## <span> 2. SOURCE DATA </span>"
   ]
  },
  {
   "cell_type": "markdown",
   "id": "ecc5b3c9",
   "metadata": {},
   "source": [
    "### <span style=\"color: purple\"> 1. input </span>"
   ]
  },
  {
   "cell_type": "code",
   "execution_count": 6,
   "id": "d8bdb5d1",
   "metadata": {},
   "outputs": [],
   "source": [
    "# Get the number of item from terminal\n",
    "nb_item = int(input(\"Enter number of item  - max :\"))\n",
    "\n",
    "# Get the capacity of the knapsack from terminal\n",
    "capacity = int(input('Enter the capacity of the sac : '))\n",
    "\n",
    "# clear the choosed items\n",
    "choosed_items = []"
   ]
  },
  {
   "cell_type": "markdown",
   "id": "4bb2b602",
   "metadata": {},
   "source": [
    "### <span style=\"color: purple\"> 2. Dataset </span>"
   ]
  },
  {
   "cell_type": "code",
   "execution_count": 6,
   "id": "0ae09244",
   "metadata": {},
   "outputs": [],
   "source": [
    "# clear the choosed items\n",
    "choosed_items = []\n",
    "\n",
    "# set the dataset\n",
    "file1 = open('./dataset/large_scale/knapPI_1_10000_1000_1', 'r')\n",
    "Lines = file1.readlines()\n",
    "\n",
    "count = 0\n",
    "# Strips the newline character\n",
    "for line in Lines:\n",
    "    count += 1\n",
    "    data = line.split()\n",
    "\n",
    "    if(count == 1):\n",
    "        # Get the number of item from terminal\n",
    "        nb_item = int(data[0])\n",
    "\n",
    "        # Get the capacity of knapsack\n",
    "        capacity = int(data[1])\n",
    "        continue\n",
    "    \n",
    "    #if count == len(Lines): \n",
    "        #optimal = data\n",
    "        #break\n",
    "    #else:\n",
    "    value = int(data[0])\n",
    "    weight = int(data[1])\n",
    "\n",
    "    # fill the list with the object\n",
    "    choosed_items.append(Item(value, weight))"
   ]
  },
  {
   "cell_type": "markdown",
   "id": "dc863e15",
   "metadata": {},
   "source": [
    "## <span> 2. GENERATOR </span>"
   ]
  },
  {
   "cell_type": "markdown",
   "id": "c3cacdbe",
   "metadata": {},
   "source": [
    "##### <span style=\"color: blue\"> 1. Random generator</span>"
   ]
  },
  {
   "cell_type": "code",
   "execution_count": 7,
   "id": "19dc8716",
   "metadata": {},
   "outputs": [],
   "source": [
    "def random_generator():\n",
    "\n",
    "    # generate the items randomly\n",
    "    for i in range (0, nb_item):\n",
    "\n",
    "      weight = random.randint(1, capacity)\n",
    "      value = random.randint(1, capacity)\n",
    "      choosed_items.append(Item(value, weight))"
   ]
  },
  {
   "cell_type": "markdown",
   "id": "3d7d26bb",
   "metadata": {},
   "source": [
    "##### <span style=\"color: blue\"> 2. Exponential generator</span>"
   ]
  },
  {
   "cell_type": "code",
   "execution_count": 18,
   "id": "20da54c2",
   "metadata": {},
   "outputs": [],
   "source": [
    "def exponential_generator():\n",
    "\n",
    "    # generate the items with exponential weight\n",
    "    for i in range(0, nb_item):\n",
    "\n",
    "      weight = int(math.exp(i))\n",
    "      value = random.randint(1, capacity)\n",
    "      choosed_items.append(Item(value, weight))"
   ]
  },
  {
   "cell_type": "markdown",
   "id": "3bce64d6",
   "metadata": {},
   "source": [
    "##### <span style=\"color: blue\"> 3.Normal distribution </span>"
   ]
  },
  {
   "cell_type": "code",
   "execution_count": 12,
   "id": "dd93021b",
   "metadata": {},
   "outputs": [],
   "source": [
    "def normal_distribution_generator():\n",
    "  weights = np.random.normal(capacity/2, 1, size = nb_item)\n",
    "  weights = list(map(int, weights))\n",
    "\n",
    "  # generate the items with normal distribution weight\n",
    "  for i in range(0, nb_item):\n",
    "    \n",
    "    value = random.randint(1, capacity)\n",
    "    choosed_items.append(Item(value, weights[i]))\n",
    "\n",
    "  return weights"
   ]
  },
  {
   "cell_type": "markdown",
   "id": "47f53c7b",
   "metadata": {},
   "source": [
    "## <span> 3. ALGORITHM </span>"
   ]
  },
  {
   "cell_type": "markdown",
   "id": "1a522087",
   "metadata": {},
   "source": [
    "##### <span style=\"color: red\"> 1. Brute Force</span>"
   ]
  },
  {
   "cell_type": "code",
   "execution_count": 15,
   "id": "bb475ea3",
   "metadata": {},
   "outputs": [],
   "source": [
    "# source : https://stackoverflow.com/questions/74174950/knapsack-problem-using-brute-force-method-in-python\n",
    "\n",
    "import itertools\n",
    "\n",
    "# calculate the total weight of the combination \n",
    "def compute_weight(combination_items):\n",
    "  value, weight = 0, 0\n",
    "  \n",
    "  for item in combination_items:\n",
    "    weight += item.weight\n",
    "    value += item.value\n",
    "\n",
    "  return value, weight \n",
    "\n",
    "# Brute force algorithm\n",
    "def brute_force_solution():\n",
    "  max_value = 0\n",
    "  solution = ()\n",
    "\n",
    "  for i in range(len(choosed_items) + 1):\n",
    "\n",
    "    # create all possible solutions\n",
    "    for combination_items in itertools.combinations(choosed_items, i):\n",
    "      value, weight = compute_weight(combination_items) \n",
    "\n",
    "      # check the total weight of the combination \n",
    "      if value > max_value and weight <= capacity:\n",
    "        solution = combination_items\n",
    "        max_value = value\n",
    "\n",
    "  return solution"
   ]
  },
  {
   "cell_type": "markdown",
   "id": "b4e868e1",
   "metadata": {},
   "source": [
    "##### <span style=\"color: red\"> 2. Dynamic Programming </span>"
   ]
  },
  {
   "cell_type": "markdown",
   "id": "0a109fb4",
   "metadata": {},
   "source": [
    "###### <span style=\"font-weight: bold\"> 1. Approach seen in the exercise sheet </span>"
   ]
  },
  {
   "cell_type": "code",
   "execution_count": 7,
   "id": "6089841a",
   "metadata": {},
   "outputs": [],
   "source": [
    "# source : https://www.askpython.com/python/examples/knapsack-problem-dynamic-programming\n",
    "\n",
    "def dynamic_programming_solution(citems):\n",
    "    table = [[0 for x in range(capacity + 1)] for x in range(nb_item + 1)] \n",
    "    for i in range(nb_item + 1): \n",
    "            for j in range(capacity + 1): \n",
    "                if i == 0 or j == 0: \n",
    "                    table[i][j] = 0\n",
    "                elif citems[i-1].weight <= j: \n",
    "                    table[i][j] = max(citems[i - 1].value  + table[i - 1][j - citems[i - 1].weight],  table[i - 1][j]) \n",
    "                else: \n",
    "                    table[i][j] = table[i-1][j] \n",
    "    return table[nb_item][capacity] "
   ]
  },
  {
   "cell_type": "markdown",
   "id": "2f219555",
   "metadata": {},
   "source": [
    "Fully polynomial time approximation scheme"
   ]
  },
  {
   "cell_type": "code",
   "execution_count": 8,
   "id": "d60c25a2",
   "metadata": {},
   "outputs": [],
   "source": [
    "# source : https://www.geeksforgeeks.org/polynomial-time-approximation-scheme/\n",
    "def fptas_solution():\n",
    "    e = 0.5\n",
    "    list=[]\n",
    "    citems=choosed_items\n",
    "    for obj in choosed_items:\n",
    "        list.append(obj.value)\n",
    "      \n",
    "    maxVal = max(list)\n",
    "    k=(maxVal*e)/nb_item\n",
    "    for i in range(nb_item):\n",
    "        citems[i].value=math.floor(float(choosed_items[i].value)/k)\n",
    "\n",
    "    return dynamic_programming_solution(citems)\n",
    "       "
   ]
  },
  {
   "cell_type": "code",
   "execution_count": 32,
   "id": "eea43e2f",
   "metadata": {},
   "outputs": [],
   "source": [
    "import random\n",
    "\n",
    "def cmcm(capacity, choosed_items):\n",
    "    vbx=0\n",
    "    x=buckets = [0] * nb_item\n",
    "\n",
    "    bestx=[0] * nb_item\n",
    "\n",
    "    for i in range(nb_item):\n",
    "      print(\"x\",x)\n",
    "      print(\"bestx\",bestx)\n",
    "      k= random.randint(0, nb_item-1)\n",
    "\n",
    "\n",
    "      print(\"the value of =============== k\",k)\n",
    "      print(\"VBX \",vbx)\n",
    "\n",
    "      if x[k]==0:\n",
    "        x[k]=1\n",
    "      else:\n",
    "        x[k]=0\n",
    "      newx=x\n",
    "      print(\"newx\",newx)\n",
    "      cc=0\n",
    "      for t in range(nb_item):\n",
    "        if newx[t]==1:\n",
    "          cc=cc+choosed_items[t].weight\n",
    "      print(\"total c\",cc)\n",
    "\n",
    "      if cc<=capacity:\n",
    "        x=newx\n",
    "        print(\"x\",x)\n",
    "      \n",
    "        vx=0\n",
    "        for r in range(nb_item):\n",
    "          if x[r]==1:\n",
    "            vx=vx+choosed_items[r].value \n",
    "        print(\"vx\",vx) \n",
    "\n",
    "        print(\"vbx befor\",vbx)   \n",
    "        pp=vbx\n",
    "      \n",
    "          \n",
    "        vbx=0\n",
    "        for r2 in range(nb_item):\n",
    "            if bestx[r2]==1:\n",
    "              vbx=vbx+choosed_items[r2].value\n",
    "              print(\"vbx- pp\",vbx)    \n",
    "\n",
    "\n",
    "        if vx>vbx:\n",
    "          for i in range(nb_item):\n",
    "            bestx[i]=x[i]\n",
    "            vbx=vx\n",
    "          \n",
    "          print(\"bestx comparaison avec x\",bestx)\n",
    "      \n",
    "    return vbx\n",
    "\n",
    "\n",
    "\t\n",
    "\t\n"
   ]
  },
  {
   "cell_type": "code",
   "execution_count": 33,
   "id": "8d122c49",
   "metadata": {},
   "outputs": [
    {
     "name": "stdout",
     "output_type": "stream",
     "text": [
      "13\n"
     ]
    }
   ],
   "source": [
    "choosed_items=[Item(60, 10), Item(100, 20), Item(120, 30),Item(40, 10),Item(60, 20)]\n",
    "print(capacity)"
   ]
  },
  {
   "cell_type": "code",
   "execution_count": 36,
   "id": "64df3703",
   "metadata": {},
   "outputs": [
    {
     "name": "stdout",
     "output_type": "stream",
     "text": [
      "x [0, 0, 0, 0, 0]\n",
      "bestx [0, 0, 0, 0, 0]\n",
      "the value of =============== k 0\n",
      "VBX  0\n",
      "newx [1, 0, 0, 0, 0]\n",
      "total c 10\n",
      "x [1, 0, 0, 0, 0]\n",
      "vx 60\n",
      "vbx befor 0\n",
      "bestx comparaison avec x [1, 0, 0, 0, 0]\n",
      "x [1, 0, 0, 0, 0]\n",
      "bestx [1, 0, 0, 0, 0]\n",
      "the value of =============== k 2\n",
      "VBX  60\n",
      "newx [1, 0, 1, 0, 0]\n",
      "total c 40\n",
      "x [1, 0, 1, 0, 0]\n",
      "vx 180\n",
      "vbx befor 60\n",
      "vbx- pp 60\n",
      "bestx comparaison avec x [1, 0, 1, 0, 0]\n",
      "x [1, 0, 1, 0, 0]\n",
      "bestx [1, 0, 1, 0, 0]\n",
      "the value of =============== k 1\n",
      "VBX  180\n",
      "newx [1, 1, 1, 0, 0]\n",
      "total c 60\n",
      "x [1, 1, 1, 0, 0]\n",
      "bestx [1, 0, 1, 0, 0]\n",
      "the value of =============== k 0\n",
      "VBX  180\n",
      "newx [0, 1, 1, 0, 0]\n",
      "total c 50\n",
      "x [0, 1, 1, 0, 0]\n",
      "vx 220\n",
      "vbx befor 180\n",
      "vbx- pp 60\n",
      "vbx- pp 180\n",
      "bestx comparaison avec x [0, 1, 1, 0, 0]\n",
      "x [0, 1, 1, 0, 0]\n",
      "bestx [0, 1, 1, 0, 0]\n",
      "the value of =============== k 2\n",
      "VBX  220\n",
      "newx [0, 1, 0, 0, 0]\n",
      "total c 20\n",
      "x [0, 1, 0, 0, 0]\n",
      "vx 100\n",
      "vbx befor 220\n",
      "vbx- pp 100\n",
      "vbx- pp 220\n",
      "220\n"
     ]
    }
   ],
   "source": [
    "max_val = cmcm(50, choosed_items)\n",
    "print(max_val)"
   ]
  },
  {
   "cell_type": "markdown",
   "id": "a1a6b480",
   "metadata": {},
   "source": [
    "###### <span style=\"font-weight: bold\"> 2. Top down approach </span>"
   ]
  },
  {
   "cell_type": "code",
   "execution_count": 8,
   "id": "16f24137",
   "metadata": {},
   "outputs": [
    {
     "ename": "ImportError",
     "evalue": "cannot import name 'cache' from 'functools' (c:\\Users\\HP\\Anaconda3\\lib\\functools.py)",
     "output_type": "error",
     "traceback": [
      "\u001b[1;31m---------------------------------------------------------------------------\u001b[0m",
      "\u001b[1;31mImportError\u001b[0m                               Traceback (most recent call last)",
      "\u001b[1;32m<ipython-input-8-d1d5b0520d76>\u001b[0m in \u001b[0;36m<module>\u001b[1;34m\u001b[0m\n\u001b[0;32m      1\u001b[0m \u001b[1;31m# source : https://helloacm.com/teaching-kids-programming-0-1-knapsack-problem-via-top-down-dynamic-programming-algorithm/\u001b[0m\u001b[1;33m\u001b[0m\u001b[1;33m\u001b[0m\u001b[1;33m\u001b[0m\u001b[0m\n\u001b[0;32m      2\u001b[0m \u001b[1;33m\u001b[0m\u001b[0m\n\u001b[1;32m----> 3\u001b[1;33m \u001b[1;32mfrom\u001b[0m \u001b[0mfunctools\u001b[0m \u001b[1;32mimport\u001b[0m \u001b[0mcache\u001b[0m\u001b[1;33m\u001b[0m\u001b[1;33m\u001b[0m\u001b[0m\n\u001b[0m\u001b[0;32m      4\u001b[0m \u001b[1;33m\u001b[0m\u001b[0m\n\u001b[0;32m      5\u001b[0m \u001b[1;32mdef\u001b[0m \u001b[0mdynamic_top_down_solution\u001b[0m\u001b[1;33m(\u001b[0m\u001b[1;33m)\u001b[0m\u001b[1;33m:\u001b[0m\u001b[1;33m\u001b[0m\u001b[1;33m\u001b[0m\u001b[0m\n",
      "\u001b[1;31mImportError\u001b[0m: cannot import name 'cache' from 'functools' (c:\\Users\\HP\\Anaconda3\\lib\\functools.py)"
     ]
    }
   ],
   "source": [
    "# source : https://helloacm.com/teaching-kids-programming-0-1-knapsack-problem-via-top-down-dynamic-programming-algorithm/\n",
    "\n",
    "from functools import cache\n",
    "\n",
    "def dynamic_top_down_solution():\n",
    "\n",
    "    @cache\n",
    "    def dynamic_top_down_solution_rec(i, c):\n",
    "        if i < 0: return 0\n",
    "        \n",
    "        solution = 0\n",
    "        if c >= choosed_items[i].weight:\n",
    "            solution = max(solution, dynamic_top_down_solution_rec(i - 1, c - choosed_items[i].weight) + choosed_items[i].value)\n",
    "        \n",
    "        solution = max(solution, dynamic_top_down_solution_rec(i - 1, c))\n",
    "        return solution\n",
    "\n",
    "    return dynamic_top_down_solution_rec(nb_item - 1, capacity)"
   ]
  },
  {
   "cell_type": "markdown",
   "id": "db79e52f",
   "metadata": {},
   "source": [
    "##### <span style=\"color: red\"> 3. Greedy approach </span>"
   ]
  },
  {
   "cell_type": "markdown",
   "id": "545837f1",
   "metadata": {},
   "source": [
    "###### <span style=\"font-weight: bold\"> 1. Greedy ratio </span>"
   ]
  },
  {
   "cell_type": "code",
   "execution_count": 9,
   "id": "928a9b0b",
   "metadata": {},
   "outputs": [],
   "source": [
    "# source : https://www.geeksforgeeks.org/fractional-knapsack-problem/\n",
    "def greedy_ratio_solution():\n",
    "\n",
    "    sorted_items = choosed_items\n",
    "    sorted_items.sort(key=lambda x: (x.value/x.weight), reverse=True)\n",
    "    \n",
    "    initial_capacity = capacity\n",
    "    finalvalue = 0.0\n",
    "\n",
    "    # Looping through all Items\n",
    "    for item in choosed_items:\n",
    "\n",
    "        if item.weight <= initial_capacity:\n",
    "            initial_capacity -= item.weight\n",
    "            finalvalue += item.value\n",
    "\n",
    "    # Returning final value\n",
    "    return finalvalue"
   ]
  },
  {
   "cell_type": "markdown",
   "id": "00bad425",
   "metadata": {},
   "source": [
    "###### <span style=\"font-weight: bold\"> 2. Greedy weight </span>"
   ]
  },
  {
   "cell_type": "code",
   "execution_count": 10,
   "id": "99b59e50",
   "metadata": {},
   "outputs": [],
   "source": [
    "def greedy_weight_solution():\n",
    "\n",
    "    sorted_items = choosed_items\n",
    "    sorted_items.sort(key=lambda x: x.weight, reverse=True)\n",
    "    \n",
    "    initial_capacity = capacity\n",
    "    final_value = 0.0\n",
    "\n",
    "    # Looping through all Items\n",
    "    for item in choosed_items:\n",
    "\n",
    "        if item.weight <= initial_capacity:\n",
    "            initial_capacity -= item.weight\n",
    "            final_value += item.value\n",
    "\n",
    "    return final_value"
   ]
  },
  {
   "cell_type": "markdown",
   "id": "3e995e1d",
   "metadata": {},
   "source": [
    "###### <span style=\"font-weight: bold\"> 3. Greedy value </span>"
   ]
  },
  {
   "cell_type": "code",
   "execution_count": 11,
   "id": "5bd4e6d2",
   "metadata": {},
   "outputs": [],
   "source": [
    "def greedy_value_solution():\n",
    "\n",
    "    sorted_items = choosed_items\n",
    "    sorted_items.sort(key=lambda x: x.value, reverse=True)\n",
    "    \n",
    "    initial_capacity = capacity\n",
    "    final_value = 0.0\n",
    "\n",
    "    # Looping through all Items\n",
    "    for item in sorted_items:\n",
    "\n",
    "        if item.weight <= initial_capacity:\n",
    "            initial_capacity -= item.weight\n",
    "            final_value += item.value\n",
    "\n",
    "    return final_value"
   ]
  },
  {
   "cell_type": "markdown",
   "id": "78dec134",
   "metadata": {},
   "source": [
    "###### <span style=\"font-weight: bold\"> 4. Greedy fractional </span>"
   ]
  },
  {
   "cell_type": "code",
   "execution_count": 12,
   "id": "17d77aff",
   "metadata": {},
   "outputs": [],
   "source": [
    "def greedy_fractional_solution():\n",
    "\n",
    "    sorted_items = choosed_items\n",
    "    sorted_items.sort(key=lambda x: (x.value/x.weight), reverse=True)\n",
    "    \n",
    "    initial_capacity = capacity\n",
    "    final_value = 0.0\n",
    "    \n",
    "    # Looping through all Items\n",
    "    for item in choosed_items:\n",
    "\n",
    "        if item.weight <= initial_capacity:\n",
    "            initial_capacity -= item.weight\n",
    "            final_value += item.value\n",
    "\n",
    "        else:\n",
    "            final_value += item.value * capacity / item.weight\n",
    "            break\n",
    "\n",
    "    return final_value"
   ]
  },
  {
   "cell_type": "markdown",
   "id": "a0bc145a",
   "metadata": {
    "tags": []
   },
   "source": [
    "#### <span style=\"color: red\"> 4. Branch and bound </span>"
   ]
  },
  {
   "cell_type": "code",
   "execution_count": 10,
   "id": "0f26a616",
   "metadata": {},
   "outputs": [],
   "source": [
    "# source : https://github.com/NateRice/0-1_Knapsack/blob/master/0-1Knapsack_keep_track_of_items.py\n",
    "\n",
    "class Priority_Queue:\n",
    "    def __init__(self):\n",
    "        self.pqueue = []\n",
    "        self.length = 0\n",
    "\n",
    "    def insert(self, node, p_per_weight, sorted_items):\n",
    "        for i in self.pqueue:\n",
    "            get_bound(i, p_per_weight, sorted_items)\n",
    "        i = 0\n",
    "        while i < len(self.pqueue):\n",
    "            if self.pqueue[i].bound > node.bound:\n",
    "                break\n",
    "            i += 1\n",
    "        self.pqueue.insert(i, node)\n",
    "        self.length += 1\n",
    "\n",
    "    def print_pqueue(self):\n",
    "        for i in list(range(len(self.pqueue))):\n",
    "            print(\"pqueue\", i, \"=\", self.pqueue[i].bound)\n",
    "\n",
    "    def remove(self):\n",
    "        try:\n",
    "            result = self.pqueue.pop()\n",
    "            self.length -= 1\n",
    "        except:\n",
    "            print(\"Priority queue is empty, cannot pop from empty list.\")\n",
    "        else:\n",
    "            return result\n",
    "\n",
    "class Node:\n",
    "    def __init__(self, level, profit, weight):\n",
    "        self.level = level\n",
    "        self.profit = profit\n",
    "        self.weight = weight\n",
    "        self.items = []\n",
    "        self.bound = 0\n",
    "\n",
    "\n",
    "def get_bound(node, p_per_weight, sorted_items):\n",
    "    if node.weight >= capacity:\n",
    "        return 0\n",
    "    else:\n",
    "        result = node.profit\n",
    "        j = node.level + 1\n",
    "        totweight = node.weight\n",
    "        while j <= nb_item-1 and totweight + sorted_items[j].weight <= capacity:\n",
    "            totweight = totweight + sorted_items[j].weight\n",
    "            result = result + choosed_items[j].value\n",
    "            j += 1\n",
    "        k = j\n",
    "        if k <= nb_item-1:\n",
    "            result = result + (capacity - totweight) * p_per_weight[k]\n",
    "\n",
    "        return result\n",
    "\n",
    "def branch_bound_solution():\n",
    "\n",
    "    # initialize\n",
    "    p_per_weight = []\n",
    "    sorted_items = choosed_items\n",
    "\n",
    "    for item in choosed_items:\n",
    "        p_per_weight.append(item.value/item.weight)\n",
    "\n",
    "    sorted_items.sort(key=lambda x: (x.value/x.weight))\n",
    "    p_per_weight = sorted(p_per_weight)\n",
    "    \n",
    "    nodes_generated = 0\n",
    "    pq = Priority_Queue()\n",
    "\n",
    "    v = Node(-1, 0, 0) # v initialized to be the root with level = 0, profit = $0, weight = 0\n",
    "    nodes_generated+=1\n",
    "    max_profit = 0 # max_profit initialized to $0\n",
    "    v.bound = get_bound(v, p_per_weight, sorted_items)\n",
    "    pq.insert(v, p_per_weight, sorted_items)\n",
    "\n",
    "    while pq.length != 0:\n",
    "        \n",
    "        v = pq.remove() #remove node with best bound\n",
    "        if v.bound > max_profit: #check if node is still promising\n",
    "            #set u to the child that includes the next item\n",
    "            u = Node(0, 0, 0)\n",
    "            nodes_generated += 1\n",
    "            u.level = v.level + 1\n",
    "            u.profit = v.profit + sorted_items[u.level].value\n",
    "            u.weight = v.weight + sorted_items[u.level].weight\n",
    "            \n",
    "            #take v's list and add u's list\n",
    "            u.items = v.items.copy()\n",
    "            u.items.append(u.level) # adds next item\n",
    "\n",
    "            if u.weight <= capacity and u.profit > max_profit: \n",
    "                #update max_profit\n",
    "                max_profit = u.profit\n",
    "                bestitems = u.items\n",
    "                u.bound = get_bound(u, p_per_weight, sorted_items)\n",
    "    \n",
    "            if u.bound > max_profit:\n",
    "                pq.insert(u, p_per_weight, sorted_items)\n",
    "    \n",
    "            #set u to the child that does not include the next item\n",
    "            u2 = Node(u.level, v.profit, v.weight)\n",
    "            nodes_generated+=1\n",
    "            u2.bound = get_bound(u2, p_per_weight, sorted_items)\n",
    "            u2.items = v.items.copy()\n",
    "    \n",
    "            if u2.bound > max_profit:\n",
    "                pq.insert(u2, p_per_weight, sorted_items)\n",
    "    \n",
    "    return max_profit\n",
    "    \n",
    "    # print(\"\\nEND maxprofit = \", maxprofit, \"nodes generated = \", nodes_generated)\n",
    "    # print(\"bestitems = \", bestitems)"
   ]
  },
  {
   "cell_type": "markdown",
   "id": "504ae7ec",
   "metadata": {},
   "source": [
    "##### <span style=\"color: red\"> 5. Genetic Solution </span>"
   ]
  },
  {
   "cell_type": "code",
   "execution_count": null,
   "id": "7fadcd65",
   "metadata": {},
   "outputs": [],
   "source": [
    "# source : https://github.com/Pantzan/KnapsackGA\n",
    "\n",
    "import random\n",
    "import operator\n",
    "\n",
    "class Genetic(object):\n",
    "\n",
    "\t#initialize variables and lists\n",
    "\tdef __init__(self):\t\n",
    "\n",
    "\t\tself.C = 0\n",
    "\t\tself.weights = []\n",
    "\t\tself.profits = []\n",
    "\t\tself.opt = []\n",
    "\t\tself.parents = []\n",
    "\t\tself.newparents = []\n",
    "\t\tself.bests = []\n",
    "\t\tself.best_p = [] \n",
    "\t\tself.iterated = 1\n",
    "\t\tself.population = 0\n",
    "\n",
    "\t# create the initial population \n",
    "\tdef initialize(self):\n",
    "\n",
    "\t\tfor i in range(self.population):\n",
    "\t\t\tparent = []\n",
    "\t\t\tfor k in range(0, 5):\n",
    "\t\t\t\tk = random.randint(0, 1)\n",
    "\t\t\t\tparent.append(k)\n",
    "\t\t\tself.parents.append(parent)\n",
    "\n",
    "\t# set the details of this problem\n",
    "\tdef properties(self, weights, profits, opt, C, population):\n",
    "\n",
    "\t\tself.weights = weights\n",
    "\t\tself.profits = profits\n",
    "\t\tself.opt = opt\n",
    "\t\tself.C = C\n",
    "\t\tself.population = population\n",
    "\t\tself.initialize()\n",
    "\n",
    "\t# calculate the fitness function of each list (sack)\n",
    "\tdef fitness(self, item):\n",
    "\n",
    "\t\tsum_w = 0\n",
    "\t\tsum_p = 0\n",
    "\n",
    "\t\t# get weights and profits\n",
    "\t\tfor index, i in enumerate(item):\n",
    "\t\t\tprint(index)\n",
    "\t\t\tprint(item)\n",
    "\t\t\tif i == 0:\n",
    "\t\t\t\tcontinue\n",
    "\t\t\telse:\n",
    "\t\t\t\tsum_w += self.weights[index]\n",
    "\t\t\t\tsum_p += self.profits[index]\n",
    "\n",
    "\t\t# if greater than the optimal return -1 or the number otherwise\n",
    "\t\tif sum_w > self.C:\n",
    "\t\t\treturn -1\n",
    "\t\telse: \n",
    "\t\t\treturn sum_p\n",
    "\t\n",
    "\t# run generations of GA\n",
    "\tdef evaluation(self):\n",
    "\n",
    "\t\t# loop through parents and calculate fitness\n",
    "\t\tbest_pop = self.population // 2\n",
    "\t\tfor i in range(len(self.parents)):\n",
    "\t\t\tparent = self.parents[i]\n",
    "\t\t\tft = self.fitness(parent)\n",
    "\t\t\tself.bests.append((ft, parent))\n",
    "\n",
    "\t\t# sort the fitness list by fitness\t\t\n",
    "\t\tself.bests.sort(key=operator.itemgetter(0), reverse=True)\n",
    "\t\tself.best_p = self.bests[:best_pop]\n",
    "\t\tself.best_p = [x[1] for x in self.best_p]\n",
    "\n",
    "\t# mutate children after certain condition\n",
    "\tdef mutation(self, ch):\n",
    "\n",
    "\t\tfor i in range(len(ch)):\t\t\n",
    "\t\t\tk = random.uniform(0, 1)\n",
    "\t\t\tif k > 0.5:\n",
    "\t\t\t\t#if random float number greater that 0.5 flip 0 with 1 and vice versa\n",
    "\t\t\t\tif ch[i] == 1:\n",
    "\t\t\t\t\tch[i] = 0\n",
    "\t\t\t\telse: \n",
    "\t\t\t\t\tch[i] = 1\n",
    "\t\treturn ch\n",
    "\n",
    "\t# crossover two parents to produce two children by miixing them under random ration each time\n",
    "\tdef crossover(self, ch1, ch2):\n",
    "\n",
    "\t\tthreshold = random.randint(1, len(ch1)-1)\n",
    "\t\ttmp1 = ch1[threshold:]\n",
    "\t\ttmp2 = ch2[threshold:]\n",
    "\t\tch1 = ch1[:threshold]\n",
    "\t\tch2 = ch2[:threshold]\n",
    "\t\tch1.extend(tmp2)\n",
    "\t\tch2.extend(tmp1)\n",
    "\n",
    "\t\treturn ch1, ch2\n",
    "\n",
    "\t# run the GA algorithm\n",
    "\tdef run(self):\n",
    "\n",
    "\t\t# run the evaluation once\n",
    "\t\tself.evaluation()\n",
    "\t\tnewparents = []\n",
    "\t\tpop = len(self.best_p)-1\n",
    "\n",
    "\t\t# create a list with unique random integers\n",
    "\t\tsample = random.sample(range(pop), pop)\n",
    "\t\tfor i in range(0, pop):\n",
    "\t\t\t# select the random index of best children to randomize the process\n",
    "\t\t\tif i < pop-1:\n",
    "\t\t\t\tr1 = self.best_p[i]\n",
    "\t\t\t\tr2 = self.best_p[i+1]\n",
    "\t\t\t\tnchild1, nchild2 = self.crossover(r1, r2)\n",
    "\t\t\t\tnewparents.append(nchild1)\n",
    "\t\t\t\tnewparents.append(nchild2)\n",
    "\t\t\telse:\n",
    "\t\t\t\tr1 = self.best_p[i]\n",
    "\t\t\t\tr2 = self.best_p[0]\n",
    "\t\t\t\tnchild1, nchild2 = self.crossover(r1, r2)\n",
    "\t\t\t\tnewparents.append(nchild1)\n",
    "\t\t\t\tnewparents.append(nchild2)\n",
    "\n",
    "\t\t# mutate the new children and potential parents to ensure global optima found\n",
    "\t\tfor i in range(len(newparents)):\n",
    "\t\t\tnewparents[i] = self.mutation(newparents[i])\n",
    "\n",
    "\t\tif self.opt in newparents:\n",
    "\t\t\tprint (\"optimal found in {} generations\" .format(self.iterated))\n",
    "\t\telse:\n",
    "\t\t\tself.iterated += 1\n",
    "\t\t\tprint(\"recreate generations for {} time\" .format(self.iterated))\n",
    "\t\t\tself.parents = newparents\n",
    "\t\t\tself.bests = []\n",
    "\t\t\tself.best_p = []\n",
    "\t\t\tself.run()\t"
   ]
  },
  {
   "cell_type": "markdown",
   "id": "c3dadf4b",
   "metadata": {},
   "source": [
    "## <span> 4. TEST  </span>"
   ]
  },
  {
   "cell_type": "markdown",
   "id": "8ad74ae9",
   "metadata": {},
   "source": [
    "### <span style=\"color: grey\"> Clear Choosed Items  </span>"
   ]
  },
  {
   "cell_type": "code",
   "execution_count": 1,
   "id": "b13cb96f",
   "metadata": {},
   "outputs": [],
   "source": [
    "choosed_items = []"
   ]
  },
  {
   "cell_type": "code",
   "execution_count": 13,
   "id": "c9b637c1",
   "metadata": {},
   "outputs": [],
   "source": [
    "def draw_graph():\n",
    "    sorted_items = choosed_items\n",
    "    # sorted_items.sort(key=lambda x: x.weight)\n",
    "\n",
    "    x, y = [], []\n",
    "    for i in range (0, len(sorted_items)):\n",
    "        x.append(i)\n",
    "        y.append(sorted_items[i].weight)\n",
    "        \n",
    "    # plotting the points\n",
    "    plt.plot(x, y)\n",
    "\n",
    "    # naming the x axis\n",
    "    plt.xlabel('x - items')\n",
    "    # naming the y axis\n",
    "    plt.ylabel('y - weight')\n",
    "\n",
    "    # function to show the plot\n",
    "    plt.show()"
   ]
  },
  {
   "cell_type": "markdown",
   "id": "55b492dd",
   "metadata": {},
   "source": [
    "### <span style=\"color: grey\"> 1. Generator </span>"
   ]
  },
  {
   "cell_type": "markdown",
   "id": "d20876ce",
   "metadata": {},
   "source": [
    "#### <span style=\"color: #DDDD\"> 1. Random </span>"
   ]
  },
  {
   "cell_type": "code",
   "execution_count": 14,
   "id": "7a8e23b3",
   "metadata": {},
   "outputs": [
    {
     "data": {
      "image/png": "[encoded data removed]",
      "text/plain": [
       "<Figure size 640x480 with 1 Axes>"
      ]
     },
     "metadata": {},
     "output_type": "display_data"
    }
   ],
   "source": [
    "random_generator()\n",
    "draw_graph()"
   ]
  },
  {
   "cell_type": "markdown",
   "id": "9deed21d",
   "metadata": {},
   "source": [
    "#### <span style=\"color: #DDDD\"> 2. Exponential </span>"
   ]
  },
  {
   "cell_type": "code",
   "execution_count": null,
   "id": "18542fe1",
   "metadata": {},
   "outputs": [],
   "source": [
    "exponential_generator()\n",
    "draw_graph()"
   ]
  },
  {
   "cell_type": "markdown",
   "id": "152196a0",
   "metadata": {
    "tags": []
   },
   "source": [
    "#### <span style=\"color: #DDDD\"> 3. Normal distribution </span>"
   ]
  },
  {
   "cell_type": "code",
   "execution_count": null,
   "id": "e2eca791",
   "metadata": {},
   "outputs": [],
   "source": [
    "normal = normal_distribution_generator()\n",
    "# plt.hist(normale, 50)\n",
    "# plt.show()\n"
   ]
  },
  {
   "cell_type": "markdown",
   "id": "51ed0de6-b03e-45d0-8931-8ee2cab8b294",
   "metadata": {},
   "source": [
    "#### <span style=\"color: #DDDD\"> 4. Uploaded Dataset </span>"
   ]
  },
  {
   "cell_type": "code",
   "execution_count": 12,
   "id": "d9502161-7dd1-4ffa-b7cc-08855bb8c09f",
   "metadata": {},
   "outputs": [
    {
     "data": {
      "image/png": "[encoded data removed]",
      "text/plain": [
       "<Figure size 640x480 with 1 Axes>"
      ]
     },
     "metadata": {},
     "output_type": "display_data"
    }
   ],
   "source": [
    "draw_graph()"
   ]
  },
  {
   "cell_type": "markdown",
   "id": "f8acf1ed",
   "metadata": {},
   "source": [
    "### <span style=\"color: grey\"> 3. Brute force</span>"
   ]
  },
  {
   "cell_type": "code",
   "execution_count": null,
   "id": "481d5c3b",
   "metadata": {},
   "outputs": [],
   "source": [
    "def brute_force_test():\n",
    "    \n",
    "    begin = time.time()\n",
    "    solution = brute_force_solution()\n",
    "    end = time.time()\n",
    "\n",
    "    problem_solutions.append(Solution((end - begin), BRUTE_FORCE, compute_total_value(solution)))\n",
    "\n",
    "    print(\"brute force = %s secondes\" % problem_solutions[len(problem_solutions) - 1].time)\n",
    "    print(\"solution brute force = \" + str(problem_solutions[len(problem_solutions) - 1].solution))\n",
    "    print(\"---\")\n",
    "\n",
    "brute_force_test()"
   ]
  },
  {
   "cell_type": "markdown",
   "id": "e535a8bd",
   "metadata": {},
   "source": [
    "### <span style=\"color: grey\"> 4. Dynamic programming</span>"
   ]
  },
  {
   "cell_type": "markdown",
   "id": "c377c727-f7b1-4f1b-97f3-564f454d9077",
   "metadata": {},
   "source": [
    "#### <span style=\"color: #dddd\"> 1. exercise sheet </span>"
   ]
  },
  {
   "cell_type": "code",
   "execution_count": 16,
   "id": "0b804d76",
   "metadata": {
    "tags": []
   },
   "outputs": [
    {
     "name": "stdout",
     "output_type": "stream",
     "text": [
      "dynamic = 0.00843358039855957 secondes\n",
      "solution = 295\n",
      "---\n"
     ]
    }
   ],
   "source": [
    "def dynamic_programming_test():\n",
    "\n",
    "    begin = time.time()\n",
    "    solution = dynamic_programming_solution(choosed_items)\n",
    "    end = time.time()\n",
    "\n",
    "    duration = (end - begin)\n",
    "    problem_solutions.append(Solution(duration, DYNAMIC_PROG, solution))\n",
    "\n",
    "    print(\"dynamic = %s secondes\" % problem_solutions[len(problem_solutions) - 1].time)\n",
    "    print(\"solution = \" + str(problem_solutions[len(problem_solutions) - 1].solution))\n",
    "    print(\"---\")\n",
    "    \n",
    "dynamic_programming_test()"
   ]
  },
  {
   "cell_type": "markdown",
   "id": "5128c472",
   "metadata": {},
   "source": [
    "#### <span style=\"color: #dddd\"> 2. top down approach</span>"
   ]
  },
  {
   "cell_type": "code",
   "execution_count": null,
   "id": "6b5d333d",
   "metadata": {},
   "outputs": [],
   "source": [
    "def dynamic_top_down_test():\n",
    "\n",
    "    begin = time.time()\n",
    "    solution = dynamic_top_down_solution()\n",
    "    end = time.time()\n",
    "\n",
    "    duration = (end - begin)\n",
    "    problem_solutions.append(Solution(duration, DYNAMIC_PROG_TOP_DOWN, solution))\n",
    "\n",
    "    print(\"dynamic top-down = %s secondes\" % problem_solutions[len(problem_solutions) - 1].time)\n",
    "    print(\"solution = \" + str(problem_solutions[len(problem_solutions) - 1].solution))\n",
    "    print(\"---\")\n",
    "    \n",
    "dynamic_top_down_test()"
   ]
  },
  {
   "cell_type": "markdown",
   "id": "e14edd96",
   "metadata": {},
   "source": [
    "### <span style=\"color: grey\"> 5. Greedy solution</span>"
   ]
  },
  {
   "cell_type": "markdown",
   "id": "633c26a7",
   "metadata": {},
   "source": [
    "#### <span style=\"color: #dddd\"> 1. value solution</span>"
   ]
  },
  {
   "cell_type": "code",
   "execution_count": 17,
   "id": "e7e0a639",
   "metadata": {},
   "outputs": [
    {
     "name": "stdout",
     "output_type": "stream",
     "text": [
      "greedy value = 2.6941299438476562e-05 secondes\n",
      "solution = 288.0\n",
      "---\n"
     ]
    }
   ],
   "source": [
    "def greedy_value_test():\n",
    "    \n",
    "    begin = time.time()\n",
    "    solution = greedy_value_solution()\n",
    "    end = time.time()\n",
    "\n",
    "    duration = (end - begin)\n",
    "    problem_solutions.append(Solution(duration, GREEDY_VALUE, solution))\n",
    "\n",
    "    print(\"greedy value = %s secondes\" % problem_solutions[len(problem_solutions) - 1].time)\n",
    "    print(\"solution = \" + str(problem_solutions[len(problem_solutions) - 1].solution))\n",
    "    print(\"---\")\n",
    "\n",
    "greedy_value_test()"
   ]
  },
  {
   "cell_type": "markdown",
   "id": "83c2f093",
   "metadata": {},
   "source": [
    "#### <span style=\"color: #dddd\"> 2. weight solution</span>"
   ]
  },
  {
   "cell_type": "code",
   "execution_count": null,
   "id": "a2cd126d",
   "metadata": {},
   "outputs": [],
   "source": [
    "def greedy_weight_test():\n",
    "    \n",
    "    begin = time.time()\n",
    "    solution = greedy_weight_solution()\n",
    "    end = time.time()\n",
    "\n",
    "    duration = (end - begin)\n",
    "    problem_solutions.append(Solution(duration, GREEDY_VALUE, solution))\n",
    "\n",
    "    print(\"greedy weight = %s secondes\" % problem_solutions[len(problem_solutions) - 1].time)\n",
    "    print(\"solution = \" + str(problem_solutions[len(problem_solutions) - 1].solution))\n",
    "    print(\"---\")\n",
    "\n",
    "greedy_weight_test()"
   ]
  },
  {
   "cell_type": "markdown",
   "id": "6d12f31c",
   "metadata": {},
   "source": [
    "#### <span style=\"color: #dddd\"> 3. ratio solution</span>"
   ]
  },
  {
   "cell_type": "code",
   "execution_count": 18,
   "id": "f5b5a1bc",
   "metadata": {},
   "outputs": [
    {
     "ename": "NameError",
     "evalue": "name 'greedy_ratio_solution' is not defined",
     "output_type": "error",
     "traceback": [
      "\u001b[0;31m---------------------------------------------------------------------------\u001b[0m",
      "\u001b[0;31mNameError\u001b[0m                                 Traceback (most recent call last)",
      "Cell \u001b[0;32mIn[18], line 13\u001b[0m\n\u001b[1;32m     10\u001b[0m     \u001b[38;5;28mprint\u001b[39m(\u001b[38;5;124m\"\u001b[39m\u001b[38;5;124msolution = \u001b[39m\u001b[38;5;124m\"\u001b[39m \u001b[38;5;241m+\u001b[39m \u001b[38;5;28mstr\u001b[39m(problem_solutions[\u001b[38;5;28mlen\u001b[39m(problem_solutions) \u001b[38;5;241m-\u001b[39m \u001b[38;5;241m1\u001b[39m]\u001b[38;5;241m.\u001b[39msolution))\n\u001b[1;32m     11\u001b[0m     \u001b[38;5;28mprint\u001b[39m(\u001b[38;5;124m\"\u001b[39m\u001b[38;5;124m---\u001b[39m\u001b[38;5;124m\"\u001b[39m)\n\u001b[0;32m---> 13\u001b[0m \u001b[43mgreedy_ratio_test\u001b[49m\u001b[43m(\u001b[49m\u001b[43m)\u001b[49m\n",
      "Cell \u001b[0;32mIn[18], line 3\u001b[0m, in \u001b[0;36mgreedy_ratio_test\u001b[0;34m()\u001b[0m\n\u001b[1;32m      1\u001b[0m \u001b[38;5;28;01mdef\u001b[39;00m \u001b[38;5;21mgreedy_ratio_test\u001b[39m():\n\u001b[1;32m      2\u001b[0m     begin \u001b[38;5;241m=\u001b[39m time\u001b[38;5;241m.\u001b[39mtime()\n\u001b[0;32m----> 3\u001b[0m     solution \u001b[38;5;241m=\u001b[39m \u001b[43mgreedy_ratio_solution\u001b[49m()\n\u001b[1;32m      4\u001b[0m     end \u001b[38;5;241m=\u001b[39m time\u001b[38;5;241m.\u001b[39mtime()\n\u001b[1;32m      6\u001b[0m     duration \u001b[38;5;241m=\u001b[39m (end \u001b[38;5;241m-\u001b[39m begin)\n",
      "\u001b[0;31mNameError\u001b[0m: name 'greedy_ratio_solution' is not defined"
     ]
    }
   ],
   "source": [
    "def greedy_ratio_test():\n",
    "    begin = time.time()\n",
    "    solution = greedy_ratio_solution()\n",
    "    end = time.time()\n",
    "\n",
    "    duration = (end - begin)\n",
    "    problem_solutions.append(Solution(duration, GREEDY_RATIO, solution))\n",
    "\n",
    "    print(\"greedy ratio = %s secondes\" % problem_solutions[len(problem_solutions) - 1].time)\n",
    "    print(\"solution = \" + str(problem_solutions[len(problem_solutions) - 1].solution))\n",
    "    print(\"---\")\n",
    "\n",
    "greedy_ratio_test()"
   ]
  },
  {
   "cell_type": "markdown",
   "id": "42f88477",
   "metadata": {},
   "source": [
    "#### <span style=\"color: #dddd\"> 3. Fractional solution</span>"
   ]
  },
  {
   "cell_type": "code",
   "execution_count": 17,
   "id": "d7cabc9c",
   "metadata": {},
   "outputs": [
    {
     "name": "stdout",
     "output_type": "stream",
     "text": [
      "greedy fractional = 0.0010998249053955078 secondes\n",
      "solution = 81393.0\n",
      "---\n"
     ]
    }
   ],
   "source": [
    "def greedy_fractional_test():\n",
    "\n",
    "    begin = time.time()\n",
    "    solution = greedy_fractional_solution()\n",
    "    end = time.time()\n",
    "\n",
    "    duration = (end - begin)\n",
    "    problem_solutions.append(Solution(duration, GREEDY_FRACTIONAL, solution))\n",
    "\n",
    "    print(\"greedy fractional = %s secondes\" % problem_solutions[len(problem_solutions) - 1].time)\n",
    "    print(\"solution = \" + str(problem_solutions[len(problem_solutions) - 1].solution))\n",
    "    print(\"---\")\n",
    "\n",
    "greedy_fractional_test()"
   ]
  },
  {
   "cell_type": "markdown",
   "id": "1503a5c4",
   "metadata": {},
   "source": [
    "### <span style=\"color: grey\"> 6. Branch & bound</span>"
   ]
  },
  {
   "cell_type": "code",
   "execution_count": 18,
   "id": "bc298bf3",
   "metadata": {},
   "outputs": [
    {
     "name": "stdout",
     "output_type": "stream",
     "text": [
      "branch bound = 0.00022125244140625 secondes\n",
      "solution = 243\n",
      "---\n"
     ]
    }
   ],
   "source": [
    "def branch_bound_test():\n",
    "\n",
    "    begin = time.time()\n",
    "    solution = branch_bound_solution()\n",
    "    end = time.time()\n",
    "\n",
    "    duration = (end - begin)\n",
    "    problem_solutions.append(Solution(duration, BRANCH_BOUND, solution))\n",
    "\n",
    "    print(\"branch bound = %s secondes\" % problem_solutions[len(problem_solutions) - 1].time)\n",
    "    print(\"solution = \" + str(problem_solutions[len(problem_solutions) - 1].solution))\n",
    "    print(\"---\")\n",
    "\n",
    "branch_bound_test()"
   ]
  },
  {
   "cell_type": "markdown",
   "id": "7de65b46",
   "metadata": {},
   "source": [
    "### <span style=\"color: grey\"> 7. Genetic </span>"
   ]
  },
  {
   "cell_type": "code",
   "execution_count": null,
   "id": "010e4175",
   "metadata": {},
   "outputs": [],
   "source": [
    "k = Genetic()\n",
    "values, weights = [], []\n",
    "print(\"je suis la\")\n",
    "for item in (choosed_items):\n",
    "\tweights.append(item.weight)\n",
    "\tvalues.append(item.value)\n",
    "\n",
    "print(weights)\n",
    "print(\"------\")\n",
    "print(values)\n",
    "\n",
    "optimal = list(map(int, optimal))\n",
    "k.properties(weights, values, optimal, capacity, nb_item * 2)\n",
    "\n",
    "solution = 0\n",
    "for i in range(0, len(optimal)):\n",
    "\tif optimal[i] == 1:\n",
    "\t\tsolution += choosed_items[i].value\n",
    "\n",
    "print(\"--->\" + str(solution))\n",
    "print(\"==> \" + str(optimal))\n",
    "\n",
    "begin = time.time()\n",
    "k.run()\n",
    "end = time.time()\n",
    "\n",
    "duration = (end - begin)\n",
    "problem_solutions.append(Solution(duration, GENETIC, solution))\n",
    "\n",
    "print(\"branch bound = %s secondes\" % problem_solutions[len(problem_solutions) - 1].time)\n",
    "print(\"solution = \" + str(problem_solutions[len(problem_solutions) - 1].solution))\n",
    "print(\"---\")"
   ]
  },
  {
   "cell_type": "markdown",
   "id": "f1e55060-3737-4bec-bb7a-ebe7f10f2977",
   "metadata": {},
   "source": [
    "### <span style=\"color: grey\"> 8. FPTAS</span>"
   ]
  },
  {
   "cell_type": "code",
   "execution_count": 19,
   "id": "6d03abcd-d3ea-407b-b854-5025b35b00ea",
   "metadata": {},
   "outputs": [
    {
     "name": "stdout",
     "output_type": "stream",
     "text": [
      "fptas = 0.006113529205322266 secondes\n",
      "solution = 66\n",
      "---\n"
     ]
    }
   ],
   "source": [
    "def fptas_test():\n",
    "\n",
    "    begin = time.time()\n",
    "    solution = fptas_solution()\n",
    "    end = time.time()\n",
    "\n",
    "    duration = (end - begin)\n",
    "    problem_solutions.append(Solution(duration, FPTAS, solution))\n",
    "\n",
    "    print(\"fptas = %s secondes\" % problem_solutions[len(problem_solutions) - 1].time)\n",
    "    print(\"solution = \" + str(problem_solutions[len(problem_solutions) - 1].solution))\n",
    "    print(\"---\")\n",
    "\n",
    "fptas_test()"
   ]
  },
  {
   "cell_type": "markdown",
   "id": "ae590d92",
   "metadata": {},
   "source": [
    "### <span style=\"color: grey\"> Display Solutions</span>"
   ]
  },
  {
   "cell_type": "code",
   "execution_count": 18,
   "id": "ca4b38dc",
   "metadata": {
    "tags": []
   },
   "outputs": [
    {
     "name": "stdout",
     "output_type": "stream",
     "text": [
      "+--------------+-----------------------+----------+\n",
      "|     Algo     |          Time         | Solution |\n",
      "+--------------+-----------------------+----------+\n",
      "| DYNAMIC PROG |   8.505886316299438   |  54503   |\n",
      "| GREEDY VALUE | 0.0010209083557128906 | 13821.0  |\n",
      "| BRANCH BOUND |   1.0617294311523438  |  54046   |\n",
      "|    FPTAS     |   8.146749019622803   |  109178  |\n",
      "+--------------+-----------------------+----------+\n"
     ]
    }
   ],
   "source": [
    "from prettytable import PrettyTable\n",
    "\n",
    "table = PrettyTable([\"Algo\", \"Time\", \"Solution\"])\n",
    "\n",
    "for solution in (problem_solutions):\n",
    "    table.add_row([solution.name, str(solution.time), solution.solution])\n",
    "\n",
    "print(table)"
   ]
  },
  {
   "cell_type": "code",
   "execution_count": 19,
   "id": "92ff0fda-1aeb-438d-b4da-10c3ffd4b439",
   "metadata": {},
   "outputs": [
    {
     "name": "stdout",
     "output_type": "stream",
     "text": [
      "--->79754\n"
     ]
    }
   ],
   "source": [
    "optimal = list(map(int, optimal))\n",
    "\n",
    "solution = 0\n",
    "for i in range(0, len(optimal)):\n",
    "\tif optimal[i] == 1:\n",
    "\t\tsolution += choosed_items[i].value\n",
    "\n",
    "print(\"--->\" + str(solution))"
   ]
  },
  {
   "cell_type": "markdown",
   "id": "4a3f7eb4",
   "metadata": {},
   "source": [
    "### <span style=\"color: grey\"> Clear Solutions</span>"
   ]
  },
  {
   "cell_type": "code",
   "execution_count": 19,
   "id": "70494a2e",
   "metadata": {},
   "outputs": [],
   "source": [
    "problem_solutions = []"
   ]
  }
 ],
 "metadata": {
  "kernelspec": {
   "display_name": "Python 3 (ipykernel)",
   "language": "python",
   "name": "python3"
  },
  "language_info": {
   "codemirror_mode": {
    "name": "ipython",
    "version": 3
   },
   "file_extension": ".py",
   "mimetype": "text/x-python",
   "name": "python",
   "nbconvert_exporter": "python",
   "pygments_lexer": "ipython3",
   "version": "3.7.3"
  },
  "vscode": {
   "interpreter": {
    "hash": "b1e6b76b6e736d29445d5c5f779c1dafb0f59893c5766b7198bc0a87a8e7acf4"
   }
  }
 },
 "nbformat": 4,
 "nbformat_minor": 5
}
