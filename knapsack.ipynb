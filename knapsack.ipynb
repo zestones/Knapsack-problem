{
 "cells": [
  {
   "cell_type": "markdown",
   "id": "2b35b085",
   "metadata": {},
   "source": [
    "# <u>Knapsack Problem</u> "
   ]
  },
  {
   "cell_type": "markdown",
   "id": "9f4fcc90",
   "metadata": {},
   "source": [
    "# MAIN"
   ]
  },
  {
   "cell_type": "code",
   "execution_count": 135,
   "id": "8a04daf8",
   "metadata": {},
   "outputs": [],
   "source": [
    "import random\n",
    "import time\n",
    "from operator import itemgetter\n",
    "from scipy.stats import beta\n",
    "import numpy as np\n",
    "from decimal import *\n",
    "\n",
    "BRUTE_FORCE = 0\n",
    "DYNAMIC_PROGRAMMING = 1\n",
    "\n",
    "problem_solutions = []\n",
    "\n",
    "# Get the number of item from terminal\n",
    "nb_item = int(input(\"Enter number of item  - max :\" ))\n",
    "\n",
    "# Get the capacity of aliment from terminal\n",
    "capacity = int(input('Enter the capacity of the sac : '))"
   ]
  },
  {
   "cell_type": "markdown",
   "id": "789fdc32",
   "metadata": {},
   "source": [
    "## <span> 1. CLASS </span>"
   ]
  },
  {
   "cell_type": "markdown",
   "id": "99b49ee9",
   "metadata": {},
   "source": [
    "### <span style=\"color: yellow\"> 1. Item </span>"
   ]
  },
  {
   "cell_type": "code",
   "execution_count": 136,
   "id": "e76a7717",
   "metadata": {},
   "outputs": [],
   "source": [
    "class Item:\n",
    "  def __init__(self, value, weight):\n",
    "    self.value = value\n",
    "    self.weight = weight\n",
    "  \n",
    "  def print(item):\n",
    "    print(\"value = \" + str(item.value) + \" - weight = \" + str(item.weight), end=' ')\n",
    "\n",
    "  def print_solutions(items):\n",
    "    for i in range(0, len(items)):\n",
    "      Item.print(items[i])"
   ]
  },
  {
   "cell_type": "markdown",
   "id": "3c89a225",
   "metadata": {},
   "source": [
    "#### <span style=\"color: GREEN\"> 1. Total Weight</span>"
   ]
  },
  {
   "cell_type": "code",
   "execution_count": 137,
   "id": "2f8a6388",
   "metadata": {},
   "outputs": [],
   "source": [
    "def compute_total_weight(item):\n",
    "    total_weight = 0\n",
    "    \n",
    "    for i in range(0, len(item)):\n",
    "        total_weight += item[i].weight\n",
    "\n",
    "    return total_weight"
   ]
  },
  {
   "cell_type": "markdown",
   "id": "3b85a185",
   "metadata": {},
   "source": [
    "#### <span style=\"color: GREEN\"> 2. Total Value</span>"
   ]
  },
  {
   "cell_type": "code",
   "execution_count": 138,
   "id": "aa4952f5",
   "metadata": {},
   "outputs": [],
   "source": [
    "def compute_total_value(item):\n",
    "    total_value = 0\n",
    "    \n",
    "    for i in range(0, len(item)):\n",
    "        total_value += item[i].value\n",
    "\n",
    "    return total_value"
   ]
  },
  {
   "cell_type": "markdown",
   "id": "ab2b0514",
   "metadata": {},
   "source": [
    "### <span style=\"color: yellow\"> 2. Solution </span>"
   ]
  },
  {
   "cell_type": "code",
   "execution_count": 139,
   "id": "e9671872",
   "metadata": {},
   "outputs": [],
   "source": [
    "class Solution:\n",
    "  def __init__(self, time, name):\n",
    "    self.name = name\n",
    "    self.time = time\n",
    "  \n",
    "  def print(solution):\n",
    "    print(\"name = \" + solution.name + \" - time = \" + str(solution.time), end=' ')"
   ]
  },
  {
   "cell_type": "markdown",
   "metadata": {},
   "source": [
    "## <span> 2. GENERATOR </span>"
   ]
  },
  {
   "cell_type": "markdown",
   "id": "c3cacdbe",
   "metadata": {},
   "source": [
    "##### <span style=\"color: blue\"> 1. Random generator</span>"
   ]
  },
  {
   "cell_type": "code",
   "execution_count": 140,
   "id": "19dc8716",
   "metadata": {},
   "outputs": [],
   "source": [
    "def random_generator():\n",
    "    choosed_items=[]\n",
    "\n",
    "    # generate the aliments randomly\n",
    "    for i in range (0, nb_item):\n",
    "\n",
    "      weight = random.randint(1, capacity)\n",
    "      value = random.randint(1, capacity)\n",
    "      choosed_items.append(Item(value, weight))\n",
    "        \n",
    "    # return the choosed aliments with their weight\n",
    "    return choosed_items\n"
   ]
  },
  {
   "cell_type": "markdown",
   "id": "47f53c7b",
   "metadata": {},
   "source": [
    "## <span> 3. ALGORITHM </span>"
   ]
  },
  {
   "cell_type": "markdown",
   "id": "1a522087",
   "metadata": {},
   "source": [
    "##### <span style=\"color: red\"> 1. Brute Force</span>"
   ]
  },
  {
   "cell_type": "code",
   "execution_count": 141,
   "id": "bb475ea3",
   "metadata": {},
   "outputs": [],
   "source": [
    "import itertools\n",
    "\n",
    "# calculate the total weight of the combination \n",
    "def compute_weight(combination_items):\n",
    "  value, weight = 0, 0\n",
    "  \n",
    "  for item in combination_items:\n",
    "    weight += item.weight\n",
    "    value += item.value\n",
    "\n",
    "  return value, weight \n",
    "\n",
    "# Brute force algorithm\n",
    "def brute_force_solution(choosed_items):\n",
    "  max_value = 0\n",
    "  solution = ()\n",
    "\n",
    "  for i in range(len(choosed_items) + 1):\n",
    "\n",
    "    # create all possible solutions\n",
    "    for combination_items in itertools.combinations(choosed_items, i):\n",
    "      value, weight = compute_weight(combination_items) \n",
    "\n",
    "      # check the total weight of the combination \n",
    "      if value > max_value and weight <= capacity:\n",
    "        solution = combination_items\n",
    "        max_value = value\n",
    "\n",
    "  return solution"
   ]
  },
  {
   "cell_type": "markdown",
   "id": "b4e868e1",
   "metadata": {},
   "source": [
    "##### <span style=\"color: red\"> 2. Dynamic Programming </span>"
   ]
  },
  {
   "cell_type": "code",
   "execution_count": 142,
   "id": "6089841a",
   "metadata": {},
   "outputs": [],
   "source": [
    "def dynamic_programming_solution(choosed_items):\n",
    "    table = [[0 for x in range(capacity + 1)] for x in range(nb_item + 1)] \n",
    "    for i in range(nb_item + 1): \n",
    "            for j in range(capacity + 1): \n",
    "                if i == 0 or j == 0: \n",
    "                    table[i][j] = 0\n",
    "                elif choosed_items[i-1].weight <= j: \n",
    "                    table[i][j] = max(choosed_items[i-1].value  + table[i-1][j-choosed_items[i-1].weight],  table[i-1][j]) \n",
    "                else: \n",
    "                    table[i][j] = table[i-1][j] \n",
    "    return table[nb_item][capacity] "
   ]
  },
  {
   "cell_type": "markdown",
   "id": "c3dadf4b",
   "metadata": {},
   "source": [
    "## <span> 4. TEST  </span>"
   ]
  },
  {
   "cell_type": "code",
   "execution_count": 143,
   "id": "7a8e23b3",
   "metadata": {},
   "outputs": [
    {
     "name": "stdout",
     "output_type": "stream",
     "text": [
      "solution brute force = 3.1534790992736816 secondes\n",
      "solution dynamic = 0.0 secondes\n",
      "capacity = 10\n",
      "\n",
      "choosed aliments = \n",
      "value = 6 - weight = 5 value = 8 - weight = 6 value = 7 - weight = 6 value = 5 - weight = 4 value = 4 - weight = 9 value = 3 - weight = 1 value = 10 - weight = 5 value = 6 - weight = 6 value = 9 - weight = 9 value = 9 - weight = 4 value = 2 - weight = 7 value = 5 - weight = 8 value = 7 - weight = 4 value = 10 - weight = 3 value = 8 - weight = 8 value = 2 - weight = 5 value = 6 - weight = 10 value = 3 - weight = 7 value = 9 - weight = 9 value = 2 - weight = 8 value = 10 - weight = 4 ========================\n",
      "\n",
      "value = 3 - weight = 1 ; value = 10 - weight = 5 ; value = 10 - weight = 3 ; 23\n",
      "\n",
      "- Total weight 9\n",
      "- Total value 23\n"
     ]
    }
   ],
   "source": [
    "choosed_items = random_generator()\n",
    "\n",
    "begin = time.time()\n",
    "solution = brute_force_solution(choosed_items)\n",
    "end = time.time()\n",
    "\n",
    "problem_solutions.append(Solution((end - begin), BRUTE_FORCE))\n",
    "\n",
    "begin = time.time()\n",
    "s = dynamic_programming_solution(choosed_items)\n",
    "end = time.time()\n",
    "\n",
    "problem_solutions.append(Solution((end - begin), DYNAMIC_PROGRAMMING))\n",
    "\n",
    "print(\"solution brute force = %s secondes\" % problem_solutions[BRUTE_FORCE].time)\n",
    "print(\"solution dynamic = %s secondes\" % problem_solutions[DYNAMIC_PROGRAMMING].time)\n",
    "\n",
    "print(\"capacity = \" + str(capacity) + \"\\n\")\n",
    "print(\"choosed aliments = \")\n",
    "\n",
    "# ! ********* For dev *******\n",
    "Item.print_solutions(choosed_items)\n",
    "\n",
    "print(\"========================\\n\")\n",
    "\n",
    "total_weight = compute_total_weight(solution)\n",
    "total_value = compute_total_value(solution)\n",
    "\n",
    "for sol in (solution):\n",
    "    Item.print(sol)\n",
    "    print(\";\", end=' ')\n",
    "\n",
    "print(s)\n",
    "\n",
    "print()\n",
    "print(\"- Total weight \" + str(total_weight))\n",
    "print(\"- Total value \" + str(total_value))\n",
    "    # ! **************"
   ]
  },
  {
   "cell_type": "markdown",
   "id": "b4e868e1",
   "metadata": {},
   "source": [
    "##### <span style=\"color: red\"> 2. Branch and Bound </span>"
   ]
  },
  {
   "cell_type": "code",
   "execution_count": 144,
   "id": "076fdb6a",
   "metadata": {},
   "outputs": [
    {
     "ename": "NameError",
     "evalue": "name 'objects' is not defined",
     "output_type": "error",
     "traceback": [
      "\u001b[1;31m---------------------------------------------------------------------------\u001b[0m",
      "\u001b[1;31mNameError\u001b[0m                                 Traceback (most recent call last)",
      "Cell \u001b[1;32mIn[144], line 96\u001b[0m\n\u001b[0;32m     91\u001b[0m                 ks\u001b[38;5;241m.\u001b[39mappend(node_)\n\u001b[0;32m     93\u001b[0m     \u001b[38;5;28;01mreturn\u001b[39;00m maxProfit\n\u001b[1;32m---> 96\u001b[0m n \u001b[38;5;241m=\u001b[39m \u001b[38;5;28mlen\u001b[39m(\u001b[43mobjects\u001b[49m)  \u001b[38;5;66;03m# number of objects\u001b[39;00m\n\u001b[0;32m     98\u001b[0m weights \u001b[38;5;241m=\u001b[39m []      \u001b[38;5;66;03m# list of weights\u001b[39;00m\n\u001b[0;32m     99\u001b[0m values \u001b[38;5;241m=\u001b[39m []       \u001b[38;5;66;03m# list of values\u001b[39;00m\n",
      "\u001b[1;31mNameError\u001b[0m: name 'objects' is not defined"
     ]
    }
   ],
   "source": [
    "class Node:\n",
    "    def __init__(self, level, value, weight):\n",
    "        self.items = []\n",
    "        self.level = level\n",
    "        self.value = value\n",
    "        self.weight = weight\n",
    "\n",
    "def sort_lists(values, weights, n):\n",
    "    tmp = []\n",
    "    for i in range(n):\n",
    "        tmp.append((values[i], weights[i], values[i]/weights[i], i))\n",
    "\n",
    "    tmp = sorted(tmp, key=itemgetter(2))\n",
    "    tmp.reverse()\n",
    "    sorted_values = []\n",
    "    sorted_weights = []\n",
    "    cor_id = []\n",
    "\n",
    "    for k in tmp:\n",
    "        sorted_values.append(k[0])\n",
    "        sorted_weights.append(k[1])\n",
    "        cor_id.append(k[3])\n",
    "\n",
    "    return sorted_values, sorted_weights, cor_id\n",
    "                        \n",
    "    \n",
    "    \n",
    "def bound(node, n, values, weights):\n",
    "    if node.weight >= capacity:\n",
    "        return 0\n",
    "    else:\n",
    "\n",
    "        bound = node.value\n",
    "        j = node.level + 1\n",
    "        total_weight = node.weight\n",
    "\n",
    "        while j <= n-1 and total_weight + weights[j] <= capacity:\n",
    "            total_weight += + weights[j]\n",
    "            bound += + values[j]\n",
    "            j+=1\n",
    "\n",
    "        k = j\n",
    "\n",
    "        if k <= n-1:\n",
    "            bound += (capacity - total_weight) * (values[k]/weights[k])\n",
    "        return bound\n",
    "\n",
    "def ks_branch_n_bound(values, weights, id):\n",
    "    maxProfit = 0\n",
    "    values, weights, id = sort_lists(values, weights, id)\n",
    "\n",
    "    ks = []\n",
    "\n",
    "    v = Node(-1, 0, 0)\n",
    "    \n",
    "    v.bound = bound(v, n, values, weights)\n",
    "\n",
    "    ks.append(v)\n",
    "\n",
    "    while ks:\n",
    "\n",
    "        ks.sort(key=lambda i: i.bound)\n",
    "        \n",
    "        v = ks.pop(0)\n",
    "\n",
    "        if v.bound > maxProfit: \n",
    "\n",
    "            node = Node(0, 0, 0)\n",
    "\n",
    "            node.level = v.level + 1\n",
    "            node.value = v.value + values[node.level]\n",
    "            node.weight = v.weight + weights[node.level]\n",
    "\n",
    "            node.items = v.items.copy()\n",
    "            node.items.append(node.level)\n",
    "\n",
    "            if node.weight <= capacity and node.value > maxProfit: \n",
    "                maxProfit = node.value\n",
    "                #print(str(node.value))\n",
    "                \n",
    "            node.bound = bound(node, n, values, weights)\n",
    "\n",
    "            if node.bound > maxProfit:\n",
    "                ks.append(node)\n",
    "\n",
    "            node_ = Node(node.level, v.value, v.weight)\n",
    "            node_.bound = bound(node_, n, values, weights)\n",
    "            node_.items = v.items.copy()\n",
    "\n",
    "            if node_.bound > maxProfit:\n",
    "                ks.append(node_)\n",
    "\n",
    "    return maxProfit\n",
    "\n",
    "\n",
    "n = len(objects)  # number of objects\n",
    "\n",
    "weights = []      # list of weights\n",
    "values = []       # list of values\n",
    "\n",
    "for i in range(n):\n",
    "  weights.append(int(objects[i][1]))  \n",
    "  values.append(int(objects[i][2]))   \n",
    "\n",
    "# Call function with counting time\n",
    "\n",
    "begin = time.time()\n",
    "res = ks_branch_n_bound(values, weights, n)\n",
    "end = time.time()\n",
    "result = '\\nTime complexity: ' + str(end - begin) + '\\nProfit: ' + str(res)\n",
    "\n",
    "add_complexity('Branch and Bound', end ,begin)\n",
    "\n",
    "print(result)\n",
    "\n"
   ]
  },
  {
   "cell_type": "markdown",
   "id": "8cb24433",
   "metadata": {},
   "source": [
    "##### <span style=\"color: red\"> 3.1 Descending Order</span>\n"
   ]
  },
  {
   "cell_type": "code",
   "execution_count": null,
   "id": "6e34baaa",
   "metadata": {},
   "outputs": [],
   "source": [
    "def greedy_Algo_DESC(items,capacity):\n",
    "    items = sorted(items,key=lambda item:item[1],reverse=True)\n",
    "    print(items)\n",
    "    chosen_item = {}\n",
    "    profit = 0\n",
    "    for i in range(len(items)):\n",
    "        name,value,weight = items[i]\n",
    "        num_of_fruit = (capacity - capacity% weight) / weight\n",
    "        #capacity 9 weight 2 => (9-1)/4 = 4\n",
    "        chosen_item[name] = num_of_fruit\n",
    "        #we will take 'num_of_fruit' unity from the fruit with the name 'name'\n",
    "        capacity = capacity % weight \n",
    "        profit += num_of_fruit*value\n",
    "    return round(profit,2),chosen_item"
   ]
  },
  {
   "cell_type": "code",
   "execution_count": null,
   "id": "d709a2d6",
   "metadata": {},
   "outputs": [
    {
     "name": "stdout",
     "output_type": "stream",
     "text": [
      "[('framboise', 5, 3), ('poire', 4, 4), ('Un classeur souple', 4, 4), ('RAPE', 4, 3), ('Un classeur rigide', 4, 3), ('RECHAUD', 4, 4), ('Un cahier', 3, 3), ('ananas', 3, 3), ('RECHAUD', 3, 3), ('framboise', 3, 2), ('Un petit cahier', 3, 3), ('lime', 3, 4), ('citron', 3, 3), ('raison', 2, 3), ('pomme', 2, 4), ('abricotpêche', 1, 4), ('RADIATEUR', 1, 4)]\n",
      "\n",
      "Time complexity: 9.202957153320312e-05\n",
      "Profit: 12\n"
     ]
    }
   ],
   "source": [
    "\n",
    "begin = time.time()\n",
    "greedy_Algo_DESC(objects,capacity)\n",
    "end = time.time()\n",
    "result = '\\nTime complexity: ' + str(end - begin) + '\\nProfit: ' + str(res)\n",
    "\n",
    "add_complexity('Descending Order', end ,begin)\n",
    "\n",
    "print(result)\n"
   ]
  },
  {
   "cell_type": "markdown",
   "id": "9ff41c52",
   "metadata": {},
   "source": [
    "##### <span style=\"color: red\"> 3.2 Ascending Order</span>"
   ]
  },
  {
   "cell_type": "code",
   "execution_count": null,
   "id": "490442e2",
   "metadata": {},
   "outputs": [],
   "source": [
    "def greedy_algo_ASC(items,capacity):\n",
    "    items = sorted(items,key=lambda item:item[1])\n",
    "    print(items)\n",
    "    chosen_item = {}\n",
    "    profit = 0\n",
    "    for i in range(len(items)):\n",
    "        name,value,weight = items[i]\n",
    "        num_of_fruit = (capacity - capacity% weight) / weight\n",
    "        #capacity 9 weight 2 => (9-1)/4 = 4\n",
    "        chosen_item[name] = num_of_fruit\n",
    "        #we will take 'num_of_fruit' unity from the fruit with the name 'name'\n",
    "        capacity = capacity % weight \n",
    "        profit += num_of_fruit*value\n",
    "    return round(profit,2),chosen_item"
   ]
  },
  {
   "cell_type": "code",
   "execution_count": null,
   "id": "3732ff24",
   "metadata": {},
   "outputs": [
    {
     "name": "stdout",
     "output_type": "stream",
     "text": [
      "[('abricotpêche', 1, 4), ('RADIATEUR', 1, 4), ('raison', 2, 3), ('pomme', 2, 4), ('Un cahier', 3, 3), ('ananas', 3, 3), ('RECHAUD', 3, 3), ('framboise', 3, 2), ('Un petit cahier', 3, 3), ('lime', 3, 4), ('citron', 3, 3), ('poire', 4, 4), ('Un classeur souple', 4, 4), ('RAPE', 4, 3), ('Un classeur rigide', 4, 3), ('RECHAUD', 4, 4), ('framboise', 5, 3)]\n",
      "\n",
      "Time complexity: 0.0001850128173828125\n",
      "Profit: 12\n"
     ]
    }
   ],
   "source": [
    "begin = time.time()\n",
    "greedy_algo_ASC(objects,capacity)\n",
    "end = time.time()\n",
    "result = '\\nTime complexity: ' + str(end - begin) + '\\nProfit: ' + str(res)\n",
    "\n",
    "add_complexity('Ascending Order', end ,begin)\n",
    "\n",
    "print(result)"
   ]
  },
  {
   "cell_type": "markdown",
   "id": "fde8454c",
   "metadata": {},
   "source": [
    "##### <span style=\"color: red\"> 3.3 Value/weight Ratio </span>"
   ]
  },
  {
   "cell_type": "code",
   "execution_count": null,
   "id": "1c08bcee",
   "metadata": {},
   "outputs": [],
   "source": [
    "def greedy_Algo_W_by_V(items,capacity):\n",
    "    items = sorted(items,key=lambda item:item[1]/item[2],reverse=True)\n",
    "    chosen_items = {}\n",
    "    profit = 0\n",
    "    for i in range(len(items)):\n",
    "        name,value,weight = items[i]\n",
    "        num_of_fruit = (capacity - capacity% weight) / weight\n",
    "        #capacity 9 weight 2 => (9-1)/4 = 4\n",
    "        chosen_items[name] = num_of_fruit\n",
    "        #we will take 'num_of_fruit' unity from the fruit with the name 'name'\n",
    "        capacity = capacity % weight \n",
    "        profit += num_of_fruit*value\n",
    "    return round(profit,2),chosen_items"
   ]
  },
  {
   "cell_type": "code",
   "execution_count": null,
   "id": "309f4820",
   "metadata": {},
   "outputs": [
    {
     "name": "stdout",
     "output_type": "stream",
     "text": [
      "\n",
      "Time complexity: 5.412101745605469e-05\n",
      "Profit: (8.0, {'framboise': 1.0, 'RAPE': 0.0, 'Un classeur rigide': 0.0, 'Un cahier': 0.0, 'poire': 0.0, 'ananas': 0.0, 'Un classeur souple': 0.0, 'RECHAUD': 0.0, 'Un petit cahier': 0.0, 'citron': 0.0, 'lime': 0.0, 'raison': 0.0, 'pomme': 0.0, 'abricotpêche': 0.0, 'RADIATEUR': 0.0})\n"
     ]
    }
   ],
   "source": [
    "begin = time.time()\n",
    "res = greedy_Algo_W_by_V(objects,capacity)\n",
    "end = time.time()\n",
    "result = '\\nTime complexity: ' + str(end - begin) + '\\nProfit: ' + str(res)\n",
    "\n",
    "add_complexity('Value/weight Ratio', end ,begin)\n",
    "\n",
    "print(result)"
   ]
  },
  {
   "cell_type": "markdown",
   "id": "1d4a49f2",
   "metadata": {},
   "source": [
    "##### <span style=\"color: red\"> 3.4 0/1 knapsack problem </span>"
   ]
  },
  {
   "cell_type": "code",
   "execution_count": null,
   "id": "f824710e",
   "metadata": {},
   "outputs": [],
   "source": [
    "def dynamic_Programming(items,capacity):\n",
    "    bag = [0 for i in range(capacity+1)]\n",
    "    #list of (capacity+1 '0')\n",
    "    for i in range(capacity+1):\n",
    "        for j in range(len(items)):\n",
    "            _,value,weight = items[j]\n",
    "            if(weight < i):\n",
    "                bag[i] = max(bag[i],bag[i-weight]+value) \n",
    "    return round(bag[capacity])"
   ]
  },
  {
   "cell_type": "code",
   "execution_count": null,
   "id": "c7b5acb6",
   "metadata": {},
   "outputs": [
    {
     "data": {
      "text/plain": [
       "6"
      ]
     },
     "execution_count": 13,
     "metadata": {},
     "output_type": "execute_result"
    }
   ],
   "source": [
    "dynamic_Programming(objects,capacity)"
   ]
  },
  {
   "cell_type": "markdown",
   "id": "9eeb6c32",
   "metadata": {},
   "source": [
    "##### <span style=\"color: red\"> 3.5 Fractional knapsack problem </span>"
   ]
  },
  {
   "cell_type": "code",
   "execution_count": null,
   "id": "277cb481",
   "metadata": {},
   "outputs": [],
   "source": [
    "def fractional_knapsack(items, capacity):\n",
    "    \n",
    "    items = sorted(items,key=lambda item:item[1]/item[2],reverse=True)\n",
    "    \n",
    "    max_value = 0\n",
    "    fractions = [0]*len(items)\n",
    "    for i in range(len(items)):\n",
    "        if items[i][1] <= capacity:\n",
    "            fractions[i] = 1\n",
    "            max_value += items[i][2]\n",
    "            capacity -= items[i][1]\n",
    "        else:\n",
    "            fractions[i] = capacity/items[i][1]\n",
    "            max_value += items[i][2]*fractions[i]\n",
    "            break\n",
    "            \n",
    "    return round(max_value), fractions"
   ]
  },
  {
   "cell_type": "code",
   "execution_count": null,
   "id": "af35a844",
   "metadata": {},
   "outputs": [
    {
     "name": "stdout",
     "output_type": "stream",
     "text": [
      "\n",
      "Time complexity: 4.792213439941406e-05\n",
      "Profit: (3, [1, 0.0, 0, 0, 0, 0, 0, 0, 0, 0, 0, 0, 0, 0, 0, 0, 0])\n"
     ]
    }
   ],
   "source": [
    "begin = time.time()\n",
    "res = fractional_knapsack(objects,capacity)\n",
    "end = time.time()\n",
    "\n",
    "result = '\\nTime complexity: ' + str(end - begin) + '\\nProfit: ' + str(res)\n",
    "\n",
    "add_complexity('Branch and Bound', end ,begin)\n",
    "\n",
    "result = '\\nTime complexity: ' + str(end - begin) + '\\nProfit: ' + str(res)\n",
    "\n",
    "add_complexity('Value/weight Ratio', end ,begin)\n",
    "\n",
    "print(result)\n"
   ]
  },
  {
   "cell_type": "markdown",
   "id": "6cabdb30",
   "metadata": {},
   "source": [
    "##### <span style=\"color: red\"> 4. Dynamic Approach </span>"
   ]
  },
  {
   "cell_type": "code",
   "execution_count": null,
   "id": "e59128bb",
   "metadata": {},
   "outputs": [
    {
     "name": "stdout",
     "output_type": "stream",
     "text": [
      "\n",
      "Time complexity: 8.320808410644531e-05\n",
      "Profit: 12\n"
     ]
    }
   ],
   "source": [
    "def knapsack_dynamic_programming(items, capacity):\n",
    "    weights = [item[1] for item in items]\n",
    "    values = [item[2] for item in items]\n",
    "    \n",
    "    # Make the empty table \n",
    "    \n",
    "    w,h = capacity + 1, len(values)\n",
    "    table = [[0 for x in range(w)] for y in range(h)]\n",
    "\n",
    "    for index in range(len(values)):\n",
    "        for weight in range(w):\n",
    "            # If the item weights more than the capacity at that column?\n",
    "            # Take above value, that problem was solved\n",
    "            if weights[index] > weight:\n",
    "                table[index][weight] = table[index - 1][weight]\n",
    "                continue\n",
    "            # if the value of the item < capacity\n",
    "            prior_value = table[index - 1][weight]\n",
    "            #         val of current item  + val of remaining weight\n",
    "            new_option_best = values[index] + table[index - 1][weight - weights[index]]\n",
    "            table[index][weight] = max(prior_value, new_option_best)\n",
    "\n",
    "    ##Get the max value        \n",
    "            \n",
    "    solution = max([x for y in table for x in y])\n",
    "            \n",
    "    return solution\n",
    "    \n",
    "\n",
    "begin = time.time()\n",
    "res = knapsack_dynamic_programming(items[1],items[0])\n",
    "end = time.time()\n",
    "result = '\\nTime complexity: ' + str(end - begin) + '\\nProfit: ' + str(res)\n",
    "\n",
    "add_complexity('Dynamic Approach', end ,begin)\n",
    "\n",
    "print(result)"
   ]
  },
  {
   "cell_type": "code",
   "execution_count": null,
   "id": "ebd404b9",
   "metadata": {},
   "outputs": [],
   "source": [
    "def knapsack_dynamic_programming_top_down(items, capacity):\n",
    "    weights = [item[1] for item in items]\n",
    "    values = [item[2] for item in items]    \n",
    "    \n",
    "    # Make the empty table \n",
    "    w,h = capacity + 1, len(values)\n",
    "    table = [[0 for x in range(w)] for y in range(h)]\n",
    "    \n",
    "    return knapsack_recursive(table, values, weights, capacity, 0)\n",
    "\n",
    "def knapsack_recursive(table, values, weights, capacity, currentIndex):\n",
    "\n",
    "  if capacity <= 0 or currentIndex >= len(values):\n",
    "    return 0\n",
    "\n",
    "  if table[currentIndex][capacity] != 0:\n",
    "    return table[currentIndex][capacity]\n",
    "\n",
    "  value1 = 0\n",
    "  if weights[currentIndex] <= capacity:\n",
    "    value1 = values[currentIndex] + knapsack_recursive(\n",
    "      table, values, weights, capacity - weights[currentIndex], currentIndex + 1)\n",
    "\n",
    "  value2 = knapsack_recursive(\n",
    "    table, values, weights, capacity, currentIndex + 1)\n",
    "\n",
    "  table[currentIndex][capacity] = max(value1, value2)\n",
    "  return table[currentIndex][capacity]"
   ]
  },
  {
   "cell_type": "code",
   "execution_count": null,
   "id": "243dfb27",
   "metadata": {},
   "outputs": [
    {
     "name": "stdout",
     "output_type": "stream",
     "text": [
      "\n",
      "Time complexity : 0.0001049041748046875\n",
      "Profit: 12\n"
     ]
    }
   ],
   "source": [
    "begin = time.time()\n",
    "res = knapsack_dynamic_programming_top_down(items[1], items[0])\n",
    "end = time.time()\n",
    "result = '\\nTime complexity : ' + str(end - begin) + '\\nProfit: ' + str(res)\n",
    "\n",
    "add_complexity('Dynamic Approach Memoizing', end ,begin)\n",
    "\n",
    "print(result)"
   ]
  },
  {
   "cell_type": "code",
   "execution_count": null,
   "id": "8fb80fde",
   "metadata": {},
   "outputs": [
    {
     "name": "stdout",
     "output_type": "stream",
     "text": [
      "('Brute Froce', Decimal('0.321441650390625'))\n",
      "('Branch and Bound', Decimal('0.00043010711669921875'))\n",
      "('Descending Order', Decimal('0.000092029571533203125'))\n",
      "('Ascending Order', Decimal('0.0001850128173828125'))\n",
      "('Value/weight Ratio', Decimal('0.0000541210174560546875'))\n",
      "('Value/weight Ratio', Decimal('0.0000479221343994140625'))\n",
      "('Dynamic Approach', Decimal('0.0000832080841064453125'))\n",
      "('Dynamic Approach Memoizing', Decimal('0.0001049041748046875'))\n"
     ]
    }
   ],
   "source": [
    "for item in gen_times:\n",
    "    print(item)"
   ]
  },
  {
   "cell_type": "code",
   "execution_count": null,
   "id": "96119f25",
   "metadata": {},
   "outputs": [],
   "source": []
  }
 ],
 "metadata": {
  "kernelspec": {
   "display_name": "Python 3.10.8 64-bit (microsoft store)",
   "language": "python",
   "name": "python3"
  },
  "language_info": {
   "codemirror_mode": {
    "name": "ipython",
    "version": 3
   },
   "file_extension": ".py",
   "mimetype": "text/x-python",
   "name": "python",
   "nbconvert_exporter": "python",
   "pygments_lexer": "ipython3",
   "version": "3.10.8"
  },
  "vscode": {
   "interpreter": {
    "hash": "e743294b9eb9579c1dbfa440bf1529440bbf17bdd5f490c626f9a31cee6b9bc4"
   }
  }
 },
 "nbformat": 4,
 "nbformat_minor": 5
}
